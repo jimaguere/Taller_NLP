{
  "nbformat": 4,
  "nbformat_minor": 0,
  "metadata": {
    "colab": {
      "name": "Cuaderno_Taller_NLP.ipynb",
      "provenance": [],
      "collapsed_sections": [],
      "authorship_tag": "ABX9TyMq+bG+3z+IhDVNyjTSX7Go",
      "include_colab_link": true
    },
    "kernelspec": {
      "name": "python3",
      "display_name": "Python 3"
    }
  },
  "cells": [
    {
      "cell_type": "markdown",
      "metadata": {
        "id": "view-in-github",
        "colab_type": "text"
      },
      "source": [
        "<a href=\"https://colab.research.google.com/github/jimaguere/Taller_NLP/blob/main/Cuaderno_Taller_NLP.ipynb\" target=\"_parent\"><img src=\"https://colab.research.google.com/assets/colab-badge.svg\" alt=\"Open In Colab\"/></a>"
      ]
    },
    {
      "cell_type": "markdown",
      "metadata": {
        "id": "VgqhkPsEvwkJ"
      },
      "source": [
        "**Instalación Librerías**"
      ]
    },
    {
      "cell_type": "code",
      "metadata": {
        "id": "80OyRY2zv7_X",
        "outputId": "164b4d63-7810-41fb-d857-88ea251d86fe",
        "colab": {
          "base_uri": "https://localhost:8080/"
        }
      },
      "source": [
        "#https://github.com/huggingface/transformers\n",
        "!pip install -q transformers #Transformers proporciona miles de modelos previamente entrenados para realizar tareas en textos como clasificación, extracción de información, respuesta a preguntas etc\n"
      ],
      "execution_count": 1,
      "outputs": [
        {
          "output_type": "stream",
          "text": [
            "\u001b[K     |████████████████████████████████| 1.3MB 8.8MB/s \n",
            "\u001b[K     |████████████████████████████████| 1.1MB 36.0MB/s \n",
            "\u001b[K     |████████████████████████████████| 2.9MB 43.9MB/s \n",
            "\u001b[K     |████████████████████████████████| 890kB 39.3MB/s \n",
            "\u001b[?25h  Building wheel for sacremoses (setup.py) ... \u001b[?25l\u001b[?25hdone\n"
          ],
          "name": "stdout"
        }
      ]
    },
    {
      "cell_type": "code",
      "metadata": {
        "id": "eiL5YoJpwxFa"
      },
      "source": [
        "from transformers import *"
      ],
      "execution_count": 3,
      "outputs": []
    },
    {
      "cell_type": "markdown",
      "metadata": {
        "id": "RRNLg9MAxUOH"
      },
      "source": [
        "**Importar modelo preguntas y respuestas**"
      ]
    },
    {
      "cell_type": "code",
      "metadata": {
        "id": "qQbW9MpbxaZi"
      },
      "source": [
        "nlp = pipeline(\n",
        "    'question-answering', \n",
        "    model='mrm8488/distill-bert-base-spanish-wwm-cased-finetuned-spa-squad2-es',\n",
        "    tokenizer=(\n",
        "        'mrm8488/distill-bert-base-spanish-wwm-cased-finetuned-spa-squad2-es',  \n",
        "        {\"use_fast\": False}\n",
        "    )\n",
        ")"
      ],
      "execution_count": 4,
      "outputs": []
    },
    {
      "cell_type": "markdown",
      "metadata": {
        "id": "4uqiZ85Hykty"
      },
      "source": [
        "**Establecer contexto y hacer preguntas**"
      ]
    },
    {
      "cell_type": "code",
      "metadata": {
        "id": "lzBPYPvAypbo",
        "outputId": "8beafbaa-67c7-44a8-9975-2f9ffa4c7607",
        "colab": {
          "base_uri": "https://localhost:8080/"
        }
      },
      "source": [
        "context = 'Mateo Guerrero  está trabajando en la universidad de Nariño en la materia electiva de base de datos'\n",
        "\n",
        "\n",
        "nlp(\n",
        "    {\n",
        "        'question': '¿Quién está trabajando  en la universidad de Nariño?',\n",
        "        'context': context\n",
        "    }\n",
        ")"
      ],
      "execution_count": 5,
      "outputs": [
        {
          "output_type": "stream",
          "text": [
            "/usr/local/lib/python3.6/dist-packages/transformers/tokenization_utils_base.py:1374: FutureWarning: The `max_len` attribute has been deprecated and will be removed in a future version, use `model_max_length` instead.\n",
            "  FutureWarning,\n"
          ],
          "name": "stderr"
        },
        {
          "output_type": "execute_result",
          "data": {
            "text/plain": [
              "{'answer': 'Mateo Guerrero',\n",
              " 'end': 15,\n",
              " 'score': 0.9767851829528809,\n",
              " 'start': 0}"
            ]
          },
          "metadata": {
            "tags": []
          },
          "execution_count": 5
        }
      ]
    },
    {
      "cell_type": "code",
      "metadata": {
        "id": "qlRQydHmz9mb",
        "outputId": "9f3a6888-925e-4f05-e7d2-9e937838929d",
        "colab": {
          "base_uri": "https://localhost:8080/"
        }
      },
      "source": [
        "nlp(\n",
        "    {\n",
        "        'question': '¿para que materia?',\n",
        "        'context': context\n",
        "    }\n",
        ")"
      ],
      "execution_count": 6,
      "outputs": [
        {
          "output_type": "stream",
          "text": [
            "/usr/local/lib/python3.6/dist-packages/transformers/tokenization_utils_base.py:1374: FutureWarning: The `max_len` attribute has been deprecated and will be removed in a future version, use `model_max_length` instead.\n",
            "  FutureWarning,\n"
          ],
          "name": "stderr"
        },
        {
          "output_type": "execute_result",
          "data": {
            "text/plain": [
              "{'answer': 'base de datos',\n",
              " 'end': 98,\n",
              " 'score': 0.5491127371788025,\n",
              " 'start': 86}"
            ]
          },
          "metadata": {
            "tags": []
          },
          "execution_count": 6
        }
      ]
    },
    {
      "cell_type": "markdown",
      "metadata": {
        "id": "EuFqAn8U094w"
      },
      "source": [
        "**importar modelo análisis de sentimientos**"
      ]
    },
    {
      "cell_type": "code",
      "metadata": {
        "id": "ojsz5L4N1EEA",
        "outputId": "91452fef-625b-46b8-d779-b32a496c6606",
        "colab": {
          "base_uri": "https://localhost:8080/"
        }
      },
      "source": [
        "nlp= pipeline('sentiment-analysis',model='mrm8488/distill-bert-base-spanish-wwm-cased-finetuned-spa-squad2-es')"
      ],
      "execution_count": 7,
      "outputs": [
        {
          "output_type": "stream",
          "text": [
            "Some weights of the model checkpoint at mrm8488/distill-bert-base-spanish-wwm-cased-finetuned-spa-squad2-es were not used when initializing BertForSequenceClassification: ['qa_outputs.weight', 'qa_outputs.bias']\n",
            "- This IS expected if you are initializing BertForSequenceClassification from the checkpoint of a model trained on another task or with another architecture (e.g. initializing a BertForSequenceClassification model from a BertForPretraining model).\n",
            "- This IS NOT expected if you are initializing BertForSequenceClassification from the checkpoint of a model that you expect to be exactly identical (initializing a BertForSequenceClassification model from a BertForSequenceClassification model).\n",
            "Some weights of BertForSequenceClassification were not initialized from the model checkpoint at mrm8488/distill-bert-base-spanish-wwm-cased-finetuned-spa-squad2-es and are newly initialized: ['classifier.weight', 'classifier.bias']\n",
            "You should probably TRAIN this model on a down-stream task to be able to use it for predictions and inference.\n"
          ],
          "name": "stderr"
        }
      ]
    },
    {
      "cell_type": "code",
      "metadata": {
        "id": "j_r1FdpJ1TaI",
        "outputId": "8e40b099-9623-4cd5-b841-1200a3c96b4e",
        "colab": {
          "base_uri": "https://localhost:8080/"
        }
      },
      "source": [
        "print(nlp('estoy feliz de estar aquí en este taller, gracias por su participación'))\n",
        "print(nlp('tuve un accidente en mi moto, estoy internado en un hospital'))\n",
        "print(nlp('tuve un accidente en mi moto pero estoy bien me salvé de milagro, viva la vida!'))"
      ],
      "execution_count": 8,
      "outputs": [
        {
          "output_type": "stream",
          "text": [
            "[{'label': 'LABEL_1', 'score': 0.5810696482658386}]\n",
            "[{'label': 'LABEL_0', 'score': 0.5652520060539246}]\n",
            "[{'label': 'LABEL_0', 'score': 0.524139404296875}]\n"
          ],
          "name": "stdout"
        }
      ]
    },
    {
      "cell_type": "markdown",
      "metadata": {
        "id": "bBGuRs5W_jQq"
      },
      "source": [
        "**Wor2vec**\n",
        "\n",
        "Una aplicación importante del aprendizaje automático en el análisis de texto, el algoritmo Word2Vec es una herramienta fascinante y muy útil. Como sugiere el nombre, crea una representación vectorial de palabras basada en el corpus que estamos usando. \n",
        "\n",
        "Pero la magia de Word2Vec está en cómo logra capturar la representación semántica de palabras en un vector [Mikolov 2013].\n",
        "\n"
      ]
    },
    {
      "cell_type": "markdown",
      "metadata": {
        "id": "REKY41IaFoDK"
      },
      "source": [
        "Instalar librerias "
      ]
    },
    {
      "cell_type": "code",
      "metadata": {
        "id": "hR6qJY28FnKq",
        "outputId": "aca1689b-2bd0-4280-c02f-eae30d33f4ca",
        "colab": {
          "base_uri": "https://localhost:8080/"
        }
      },
      "source": [
        "!pip install ftfy\n",
        "!spacy download es_core_news_sm\n",
        "#reiniciar entorno "
      ],
      "execution_count": 16,
      "outputs": [
        {
          "output_type": "stream",
          "text": [
            "Collecting ftfy\n",
            "\u001b[?25l  Downloading https://files.pythonhosted.org/packages/ff/e2/3b51c53dffb1e52d9210ebc01f1fb9f2f6eba9b3201fa971fd3946643c71/ftfy-5.8.tar.gz (64kB)\n",
            "\r\u001b[K     |█████▏                          | 10kB 18.4MB/s eta 0:00:01\r\u001b[K     |██████████▎                     | 20kB 6.3MB/s eta 0:00:01\r\u001b[K     |███████████████▍                | 30kB 7.5MB/s eta 0:00:01\r\u001b[K     |████████████████████▌           | 40kB 8.3MB/s eta 0:00:01\r\u001b[K     |█████████████████████████▋      | 51kB 6.8MB/s eta 0:00:01\r\u001b[K     |██████████████████████████████▊ | 61kB 7.4MB/s eta 0:00:01\r\u001b[K     |████████████████████████████████| 71kB 4.9MB/s \n",
            "\u001b[?25hRequirement already satisfied: wcwidth in /usr/local/lib/python3.6/dist-packages (from ftfy) (0.2.5)\n",
            "Building wheels for collected packages: ftfy\n",
            "  Building wheel for ftfy (setup.py) ... \u001b[?25l\u001b[?25hdone\n",
            "  Created wheel for ftfy: filename=ftfy-5.8-cp36-none-any.whl size=45612 sha256=8a2ca28e4ca6aba4c02599975f0306366ecdebcc44983817a300eb3e12bb5c14\n",
            "  Stored in directory: /root/.cache/pip/wheels/ba/c0/ef/f28c4da5ac84a4e06ac256ca9182fc34fa57fefffdbc68425b\n",
            "Successfully built ftfy\n",
            "Installing collected packages: ftfy\n",
            "Successfully installed ftfy-5.8\n",
            "Collecting es_core_news_sm==2.2.5\n",
            "\u001b[?25l  Downloading https://github.com/explosion/spacy-models/releases/download/es_core_news_sm-2.2.5/es_core_news_sm-2.2.5.tar.gz (16.2MB)\n",
            "\u001b[K     |████████████████████████████████| 16.2MB 76.5MB/s \n",
            "\u001b[?25hRequirement already satisfied: spacy>=2.2.2 in /usr/local/lib/python3.6/dist-packages (from es_core_news_sm==2.2.5) (2.2.4)\n",
            "Requirement already satisfied: wasabi<1.1.0,>=0.4.0 in /usr/local/lib/python3.6/dist-packages (from spacy>=2.2.2->es_core_news_sm==2.2.5) (0.8.0)\n",
            "Requirement already satisfied: cymem<2.1.0,>=2.0.2 in /usr/local/lib/python3.6/dist-packages (from spacy>=2.2.2->es_core_news_sm==2.2.5) (2.0.3)\n",
            "Requirement already satisfied: murmurhash<1.1.0,>=0.28.0 in /usr/local/lib/python3.6/dist-packages (from spacy>=2.2.2->es_core_news_sm==2.2.5) (1.0.2)\n",
            "Requirement already satisfied: preshed<3.1.0,>=3.0.2 in /usr/local/lib/python3.6/dist-packages (from spacy>=2.2.2->es_core_news_sm==2.2.5) (3.0.2)\n",
            "Requirement already satisfied: srsly<1.1.0,>=1.0.2 in /usr/local/lib/python3.6/dist-packages (from spacy>=2.2.2->es_core_news_sm==2.2.5) (1.0.2)\n",
            "Requirement already satisfied: setuptools in /usr/local/lib/python3.6/dist-packages (from spacy>=2.2.2->es_core_news_sm==2.2.5) (50.3.2)\n",
            "Requirement already satisfied: numpy>=1.15.0 in /usr/local/lib/python3.6/dist-packages (from spacy>=2.2.2->es_core_news_sm==2.2.5) (1.18.5)\n",
            "Requirement already satisfied: blis<0.5.0,>=0.4.0 in /usr/local/lib/python3.6/dist-packages (from spacy>=2.2.2->es_core_news_sm==2.2.5) (0.4.1)\n",
            "Requirement already satisfied: catalogue<1.1.0,>=0.0.7 in /usr/local/lib/python3.6/dist-packages (from spacy>=2.2.2->es_core_news_sm==2.2.5) (1.0.0)\n",
            "Requirement already satisfied: tqdm<5.0.0,>=4.38.0 in /usr/local/lib/python3.6/dist-packages (from spacy>=2.2.2->es_core_news_sm==2.2.5) (4.41.1)\n",
            "Requirement already satisfied: thinc==7.4.0 in /usr/local/lib/python3.6/dist-packages (from spacy>=2.2.2->es_core_news_sm==2.2.5) (7.4.0)\n",
            "Requirement already satisfied: plac<1.2.0,>=0.9.6 in /usr/local/lib/python3.6/dist-packages (from spacy>=2.2.2->es_core_news_sm==2.2.5) (1.1.3)\n",
            "Requirement already satisfied: requests<3.0.0,>=2.13.0 in /usr/local/lib/python3.6/dist-packages (from spacy>=2.2.2->es_core_news_sm==2.2.5) (2.23.0)\n",
            "Requirement already satisfied: importlib-metadata>=0.20; python_version < \"3.8\" in /usr/local/lib/python3.6/dist-packages (from catalogue<1.1.0,>=0.0.7->spacy>=2.2.2->es_core_news_sm==2.2.5) (2.0.0)\n",
            "Requirement already satisfied: chardet<4,>=3.0.2 in /usr/local/lib/python3.6/dist-packages (from requests<3.0.0,>=2.13.0->spacy>=2.2.2->es_core_news_sm==2.2.5) (3.0.4)\n",
            "Requirement already satisfied: urllib3!=1.25.0,!=1.25.1,<1.26,>=1.21.1 in /usr/local/lib/python3.6/dist-packages (from requests<3.0.0,>=2.13.0->spacy>=2.2.2->es_core_news_sm==2.2.5) (1.24.3)\n",
            "Requirement already satisfied: certifi>=2017.4.17 in /usr/local/lib/python3.6/dist-packages (from requests<3.0.0,>=2.13.0->spacy>=2.2.2->es_core_news_sm==2.2.5) (2020.6.20)\n",
            "Requirement already satisfied: idna<3,>=2.5 in /usr/local/lib/python3.6/dist-packages (from requests<3.0.0,>=2.13.0->spacy>=2.2.2->es_core_news_sm==2.2.5) (2.10)\n",
            "Requirement already satisfied: zipp>=0.5 in /usr/local/lib/python3.6/dist-packages (from importlib-metadata>=0.20; python_version < \"3.8\"->catalogue<1.1.0,>=0.0.7->spacy>=2.2.2->es_core_news_sm==2.2.5) (3.3.1)\n",
            "Building wheels for collected packages: es-core-news-sm\n",
            "  Building wheel for es-core-news-sm (setup.py) ... \u001b[?25l\u001b[?25hdone\n",
            "  Created wheel for es-core-news-sm: filename=es_core_news_sm-2.2.5-cp36-none-any.whl size=16172934 sha256=a17da2da12f13e8009f9f3c948a410a7372ea4e619ab5e43327d86935f324e2f\n",
            "  Stored in directory: /tmp/pip-ephem-wheel-cache-116jc64v/wheels/05/4f/66/9d0c806f86de08e8645d67996798c49e1512f9c3a250d74242\n",
            "Successfully built es-core-news-sm\n",
            "Installing collected packages: es-core-news-sm\n",
            "Successfully installed es-core-news-sm-2.2.5\n",
            "\u001b[38;5;2m✔ Download and installation successful\u001b[0m\n",
            "You can now load the model via spacy.load('es_core_news_sm')\n"
          ],
          "name": "stdout"
        }
      ]
    },
    {
      "cell_type": "markdown",
      "metadata": {
        "id": "aZxlwvYfCnJI"
      },
      "source": [
        "Importar Word2Vec con Gensim"
      ]
    },
    {
      "cell_type": "code",
      "metadata": {
        "id": "dUOHaQYXCO4t"
      },
      "source": [
        "from gensim.models import Word2Vec\n",
        "from gensim.models.phrases import Phrases, Phraser\n",
        "from time import time  # To time our operations\n",
        "import multiprocessing\n",
        "from ftfy import fix_encoding\n",
        "import spacy\n",
        "import re "
      ],
      "execution_count": 14,
      "outputs": []
    },
    {
      "cell_type": "markdown",
      "metadata": {
        "id": "t-e4yBP8C40I"
      },
      "source": [
        "Conectar a drive para leer el texto"
      ]
    },
    {
      "cell_type": "code",
      "metadata": {
        "id": "k5jjUM98C284",
        "outputId": "313b6507-7422-4f99-90ca-1bc4c5c4906f",
        "colab": {
          "base_uri": "https://localhost:8080/"
        }
      },
      "source": [
        "from google.colab import drive\n",
        "drive.mount('/content/drive')"
      ],
      "execution_count": 15,
      "outputs": [
        {
          "output_type": "stream",
          "text": [
            "Drive already mounted at /content/drive; to attempt to forcibly remount, call drive.mount(\"/content/drive\", force_remount=True).\n"
          ],
          "name": "stdout"
        }
      ]
    },
    {
      "cell_type": "code",
      "metadata": {
        "id": "7j7exCKSFbYg",
        "outputId": "259302be-b9bf-43e2-c934-e7121db67d58",
        "colab": {
          "base_uri": "https://localhost:8080/",
          "height": 108
        }
      },
      "source": [
        "nlp = spacy.load('es_core_news_sm')\n",
        "ruta_archivo=\"/content/drive/My Drive/NLP TALLER/texto_prueba.txt\"\n",
        "f = open (ruta_archivo,'r',encoding=\"utf8\")\n",
        "texto = f.read()\n",
        "f.close()\n",
        "texto = re.sub('[ \\t\\n]+', ' ', texto) \n",
        "texto=fix_encoding(texto)\n",
        "texto"
      ],
      "execution_count": 16,
      "outputs": [
        {
          "output_type": "execute_result",
          "data": {
            "application/vnd.google.colaboratory.intrinsic+json": {
              "type": "string"
            },
            "text/plain": [
              "'En este trabajo se presenta el análisis, diseño e implementación de TariyKDD,una herramienta genérica para el Descubrimiento de conocimiento en bases de datos, débilmente acoplada con el SGBD PostgreSQL. TariyKDD comprende cuatro módulos que cubren la conexión, a archivos planos y bases de datos relacionales, un módulo de utilidades con clases y librerías comunes, un módulo kernel que reune las etapas de preprocesamiento, minería y visualización, y el módulo de interfaz gráfica de usuario. Dentro del kernel de minería se implementan 5 algoritmos, Apriori, FPGrowth y EquipAsso para asociación y C4.5 y Mate para clasificación. Se evalúa el rendimiento de los algoritmos EquipAsso, un algoritmo para el cálculo de conjuntos de ítems frecuentes, y Mate, un algoritmo para la construcción de arboles de clasificación, basados en nuevos operadores del álgebra relacional, con respecto a los algoritmos Apriori y FP-Growth y C4.5, respectivamente. 1. INTRODUCCION El proceso de extraer conocimiento a partir de grandes volúmenes de datos ha sido reconocido por muchos investigadores como un tópico de investigación clave en los sistemas de bases de datos, y por muchas compañías industriales como una importante área y una oportunidad para obtener mayores ganancias [42]. El Descubrimiento de Conocimiento en Bases de Datos (DCBD) es básicamente un proceso automático en el que se combinan descubrimiento y análisis. El proceso consiste en extraer patrones en forma de reglas o funciones, a partir de los datos, para que el usuario los analice. Esta tarea implica generalmente preprocesar los datos, hacer minería de datos (data mining) y presentar resultados [3, 2, 7, 23, 31]. El DCBD se puede aplicar en diferentes dominios por ejemplo, para determinar perfiles de clientes fraudulentos (evasión de impuestos), para descubrir relaciones implícitas existentes entre síntomas y enfermedades, entre características técnicas y diagnóstico del estado de equipos y máquinas, para determinar perfiles de estudiantes ”académicamente exitosos” en términos de sus características socioeconómicas, para determinar patrones de compra de los clientes en sus canastas de mercado, entre otras. Las investigaciones en DCBD, se centraron inicialmente en definir nuevas operaciones de descubrimiento de patrones y desarrollar algoritmos para estas. Investigaciones posteriores se han focalizado en el problema de integrar DCBD con Sistemas Gestores de Bases de Datos (SGBD) ofreciendo como resultado el desarrollo de herramientas DCBD cuyas arquitecturas se pueden clasificar en una de tres categorías: débilmente acopladas, medianamente acopladas y fuertemente acopladas con el SGBD [41]. Una herramienta DCBD debe integrar una variedad de componentes (técnicas de minería de datos, consultas, métodos de visualización, interfaces, etc.), que juntos puedan eficientemente identificar y extraer patrones interesantes y útiles de los datos almacenados en las bases de datos. De acuerdo a las tareas que desarrollen, las herramientas DCBD se clasifican en tres grupos: herramientas genéricas de tareas sencillas, herramientas genéricas de tareas múltiples y herramientas de dominio específico [31]. En este documento se presenta el trabajo de grado para optar por el título de Ingeniero de Sistemas. Fruto de la presente investigación es el desarrollo de ”TariyKDD: Una herramienta genérica de Descubrimiento de Conocimiento en Bases de Datos débilmente acoplada con el SGBD PostgreSQL”, en la cual también se implementaron los algoritmos EquipAsso [43, 42, 45] y MateTree [46] para las tareas de Asociación y Clasificación propuestos por Timarán en [46] y sobre los cuales se realizarón ciertas pruebas para medir su rendimiento. El resto de este documento esta organizado de la siguiente manera. En la primera sección se especifica el tema de la propuesta, se lo enmarca dentro de una línea de investigación y se lo delimita. A 16 continuación se describe el problema objeto de estudio, luego se especifican los objetivos generales y específicos del proyecto y finalmente la justificación. En la sección 2 se presenta el estado general del arte en el área de integración de DCBD y SGBD. En la sección 3 se desarrolla todo lo concerniente al análisis orientado a objetos UML que se realizo para construir la herramienta, en la sección 4 se presenta la implementación del proyecto, en la sección 5 se presenta las pruebas hechas y resultados, y finalmente en la sección 6 se presenta las conclusiones de este trabajo. 6. CONCLUSIONES Y TRABAJOS FUTUROS En este proyecto se diseñó e implementó una herramienta débilmente acoplada con el SGBD PostgreSQL que da soporte a las etapas de conexión, preprocesamiento, minería y visualización del proceso KDD. Igualmente se incluyeron en el estudio nuevos algoritmos de asociación y clasificación propuestos por Timaran [42,43,44,45]. Para el desarrollo del proyecto se hizo un análisis de varias herramientas de software libre que abordan tareas similares a las que se pretendió en este trabajo. Se identificó las limitaciones y virtudes de estas aplicaciones y se diseñó una metodología para el desarrollo de una herramienta que cubriera las falencias encontradas. Se incluyó en TariyKDD mejoras en la conexión a bases de datos implementando un interfaz que permite la selección visual de atributos y el establecimiento de relaciones entre diferentes tablas pertenecientes a una misma base de datos. Se implementó nuevos algoritmos de asociación y clasificación ausentes en otras herramientas como FPGrowth, EquipAsso y Mate. Igualmente se construyó visores que permiten la interacción directa con los resultados obtenidos a través de tablas ordenadas, arboles jerarquizados y gráficos de distribución. Se establecieron patrones de diseño que hicieron posible el acoplamiento de nuevas funcionalidades a cada uno de los módulos que lo componen, facilitando así la inclusión futura de nuevas características y el mejoramiento continuo de la aplicación, así como la implementación de un sistema de control de versiones que facilita el trabajo colaborativo y permite el acceso a la herramienta a través de Internet. La construcción de TariyKDD comprendió el desarrollo de cuatro módulos que cubrieron: El módulo de conexión a datos, tanto a archivos planos como a bases de datos relacionales. El módulo de utilidades, que contiene una colección de clases y librerías comunes usadas en toda la aplicación. El módulo de kernel, que incluye la etapas de: preprocesamiento, donde se implementaron 9 filtros para la selección, transformación y preparación de los datos, el proceso de minería, que comprendió tareas de asociación y clasificación, implementando 5 algoritmos, Apriori, FPGrowth y EquipAsso para asociación y C4.5 y Mate para clasificación y el proceso de visualización de resultados, utilizando tablas y árboles para generar reportes de los resultados y reglas obtenidas. Por último, el módulo de interfaz gráfica de usuario que provee una interacción amigable sobre los demás componentes por parte del usuario. 201 Se incluyó un módulo para la predicción de nuevos registros a partir de los modelos construidos con los algoritmos de clasificación. Se desarrolló un modelo de datos que facilitó la aplicación de algoritmos de asociación sobre bases de datos enmarcadas en el concepto de canasta de mercado donde la longitud de cada transacción es variable. El desarrollo de TariyKDD fue logrado usando en su totalidad herramientas de código abierto y software libre. Se realizaron pruebas para evaluar la validez de los algoritmos implementados. Para el plan de pruebas de la tarea de asociación, se utilizaron conjuntos de datos reales de las ventas de un supermercado de la Caja de Compensación Familiar de Nariño compuesta por 85.692 transacciones. Para Clasificación, se trabajó con la base de datos histórica de los estudiantes de la Universidad de Nariño, compuesta por información personal y académica de 20.328 estudiantes. Como resultado de las pruebas para la tarea de clasificación se concluye que es recomendable el uso del algoritmo C4.5 para conjuntos de datos extensos donde el número de atributos a analizar sea grande. Solo bajo conjuntos de datos pequeños y con reducido número de atributos resulta viable aplicar el algoritmo Mate bajo una arquitectura débilmente acoplada. Como resultado de las pruebas para Asociación se concluye que los algoritmos FPGrowth y EquipAsso obtienen buenos tiempos de respuesta al ser aplicados en conjuntos grandes pero a medida que se disminuye el criterio de soporte se ve un mejor comportamiento por parte del algoritmo EquipAsso. No es viable aplicar el algoritmo Apriori bajo conjuntos grandes limitando su uso a muestras pequeñas de datos. Este proyecto complementa el trabajo “Proyecto TARIY – Un Análisis de Rendimiento de Algoritmos para Reglas de Asociación” [36] que fue ganador de la VII Convocatoria Alberto Quijano Guerrero de proyectos de investigación estudiantil en la categoría de Investigación Cuantitativa presentado por los mismos autores. Este proyecto hizo parte de los proyectos financiados por el Sistema de Investigaciones de la Universidad de Nariño dentro del marco del Concurso de Tesis de Pregrado organizado en el año 2006. Durante el desarrollo del proyecto se participó activamente en eventos regionales como el Día Internacional del Software Libre y la Semana de Ingeniería. Como resultado de este proyecto se publicó y presentó un artículo internacional en el marco del XXXII Congreso Latinoamericano de Estudios Informáticos - CLEI 2006 realizado en la ciudad de Santiago de Chile [40]. 202 Se cuenta con una versión estable de TariyKDD con la capacidad de extraer reglas asociación y clasificación bajo una arquitectura débilmente acoplada con el SGBD PostgreSQL desarrollada bajo los lineamientos del software libre. Una vez que se han descrito los resultados más relevantes que se han obtenido durante la realización de este proyecto, se sugiere una serie de recomendaciones como punto de partida para trabajos futuros: • Realizar mayores pruebas de rendimiento de esta arquitectura con otros repositorios de datos reales. • Implementar otras primitivas que Timaran propone para tareas de Asociación y Clasificación. • Implementar otras tareas y algoritmos de minería de datos, como clustering y patrones secuenciales. • Implementar nuevos filtros e interfaces de visualización que permitan el mejoramiento continuo de TariyKDD. • Acoplar gráficos estadísticos a los conjuntos de datos cargados para obtener una información inicial de sus características. • Acoplar TariyKDD fuertemente con PostgreKDD. • Disponer de la herramienta como material de apoyo a las electivas de base de datos dentro del programa de Ingeniería de Sistemas. • Liberar, compartir y difundir una versión estable de TariyKDD con la capacidad de descubrir conocimiento en bases de datos. • Asegurar la continuidad del proyecto. Finalmente, este trabajo permitió aplicar los conocimientos adquiridos en el programa de Ingeniería de Sistemas y en especial los de la electiva de bases de datos, así como el trabajo y aprendizaje dentro del Grupo de Investigación GRiAS Línea KDD. '"
            ]
          },
          "metadata": {
            "tags": []
          },
          "execution_count": 16
        }
      ]
    },
    {
      "cell_type": "markdown",
      "metadata": {
        "id": "a9WLRYEqFTE5"
      },
      "source": [
        "Crear Función para tokenizar el texto"
      ]
    },
    {
      "cell_type": "code",
      "metadata": {
        "id": "Eb9JosBVDJ1I",
        "outputId": "b2f4e22f-fc20-4ebe-e30e-7744079bd292",
        "colab": {
          "base_uri": "https://localhost:8080/"
        }
      },
      "source": [
        "def tokenize(text):\n",
        "  doc1 = nlp(text)\n",
        "  words=[]\n",
        "  for t in doc1:\n",
        "    if  t.is_punct or  t.is_stop or t.is_space or len(str(t))<=3:\n",
        "      continue\n",
        "    if t.ent_type==0:\n",
        "      words.append(str(t.lemma_).lower())\n",
        "    else:\n",
        "     \n",
        "      words.append(str(t).lower())\n",
        "      \n",
        "\n",
        "  return words\n",
        "\n",
        "tokenize(\"desarrollo de un sistema de información que administre los datos de bienestar familiar\")"
      ],
      "execution_count": 17,
      "outputs": [
        {
          "output_type": "execute_result",
          "data": {
            "text/plain": [
              "['desarrollar',\n",
              " 'sistema',\n",
              " 'información',\n",
              " 'administrar',\n",
              " 'dato',\n",
              " 'bienestar',\n",
              " 'familiar']"
            ]
          },
          "metadata": {
            "tags": []
          },
          "execution_count": 17
        }
      ]
    },
    {
      "cell_type": "markdown",
      "metadata": {
        "id": "U5FRcQquJM3h"
      },
      "source": [
        "Entrenamiento del modelo Word2vec"
      ]
    },
    {
      "cell_type": "code",
      "metadata": {
        "id": "PqPqKGyoJHh7",
        "outputId": "cd27f16f-1a5e-40d8-b961-1bb9fa360026",
        "colab": {
          "base_uri": "https://localhost:8080/"
        }
      },
      "source": [
        "def entrenamiento(texto):\n",
        "        doc=nlp(fix_encoding(texto))\n",
        "        sent=[]\n",
        "        #Recorrer oraciones del texto\n",
        "        for num,oracion in enumerate(doc.sents):\n",
        "            o=tokenize(str(oracion)) #tokenizar oración  \n",
        "            sent.append(o) \n",
        "        print(sent)\n",
        "        #Crea las frases relevantes de la lista de oraciones:\n",
        "        phrases = Phrases(sent, min_count=30, progress_per=10000)\n",
        "        #Transforme el corpus en función de las bigramas detectadas:\n",
        "        bigram = Phraser(phrases)\n",
        "        sentences = bigram[sent]\n",
        "                  \n",
        "        #Entrenamiento del modelo\n",
        "        cores = multiprocessing.cpu_count() #cuenta el nro de nucles de la pc\n",
        "\n",
        "        w2v_model = Word2Vec(min_count=3,\n",
        "                     window=10,\n",
        "                     size=300,\n",
        "                     sample=6e-5, \n",
        "                     alpha=0.03, \n",
        "                     min_alpha=0.0007, \n",
        "                     negative=20,\n",
        "                     workers=cores\n",
        "                    )\n",
        "        t = time()\n",
        "        w2v_model.build_vocab(sentences,progress_per=10000)  # preparar el vocabulario modelo\n",
        "        print('Tiempo para desarrollar vocabulario: {} minutos'.format(round((time() - t) / 60, 2)))\n",
        "        t = time()\n",
        "        w2v_model.train(sentences, total_examples=w2v_model.corpus_count, epochs=10000, report_delay=1) #entrenar\n",
        "        print('Tiempo de entrenamiento del modelo: {} minutos'.format(round((time() - t) / 60, 2)))\n",
        "        return w2v_model\n",
        "        \n",
        "modelo=entrenamiento(texto)"
      ],
      "execution_count": 18,
      "outputs": [
        {
          "output_type": "stream",
          "text": [
            "[['presentar', 'análisis', 'diseñar', 'implementación', 'tariykdd', 'herramienta', 'genérico', 'descubrimiento', 'conocimiento', 'base', 'dato', 'débilmente', 'acoplar', 'sgbd', 'postgresql'], ['tariykdd', 'comprender', 'módulo', 'cubrir', 'conexión', 'archivo', 'plano', 'base', 'dato', 'relacional', 'módulo', 'utilidad', 'clase', 'librería', 'común', 'módulo', 'kernel', 'reune', 'etapa', 'preprocesamiento', 'minería', 'visualización', 'módulo', 'interfaz', 'gráfico', 'usuario'], ['kernel', 'minería', 'implementar', 'algoritmo', 'apriori', 'fpgrowth', 'equipasso', 'asociación', 'c4.5', 'mate', 'clasificación'], ['evaluar', 'rendimiento', 'algoritmo', 'equipasso', 'algoritmo', 'cálculo', 'conjunto', 'ítem', 'frecuente', 'mate', 'algoritmo', 'construcción', 'arbolar', 'clasificación', 'basar', 'operador', 'álgebra', 'relacional', 'algoritmo', 'apriori', 'growth', 'c4.5', 'respectivamente'], [], ['introduccion', 'procesar', 'extraer', 'conocimiento', 'volumen', 'dato', 'reconocer', 'investigador', 'tópico', 'investigación', 'clavar', 'sistema', 'base', 'dato', 'compañía', 'industrial', 'importante', 'área', 'oportunidad', 'obtener', 'mayor', 'ganancia'], ['descubrimiento', 'conocimiento', 'bases', 'datos', 'dcbd', 'básicamente', 'procesar', 'automático', 'combinar', 'descubrimiento', 'análisis'], ['procesar', 'consistir', 'extraer', 'patrón', 'formar', 'reglar', 'funcionar', 'dato', 'usuario', 'analizar'], ['tarea', 'implicar', 'generalmente', 'preprocesar', 'dato', 'minería', 'dato', 'datar', 'mining', 'presentar', 'resultar'], ['dcbd', 'aplicar', 'dominio', 'determinar', 'perfilar', 'cliente', 'fraudulento', 'evasión', 'impuesto', 'descubrir', 'relacionar', 'implícito', 'existente', 'síntoma', 'enfermedad', 'característico', 'técnico', 'diagnóstico', 'equipo', 'máquina', 'determinar', 'perfilar', 'estudiante', 'académicamente', 'exitoso', 'término', 'característico', 'socioeconómico', 'determinar', 'patrón', 'comprar', 'cliente', 'canasta', 'mercar'], ['investigación', 'dcbd', 'centrar', 'inicialmente', 'definir', 'operación', 'descubrimiento', 'patrón', 'desarrollar', 'algoritmo'], ['investigaciones', 'posterior', 'focalizar', 'problema', 'integrar', 'dcbd', 'sistemas', 'gestores', 'bases', 'datos', 'sgbd', 'ofrecer', 'resultar', 'desarrollar', 'herramienta', 'dcbd', 'cuyo', 'arquitectura', 'clasificar', 'categoría', 'débilmente', 'acoplar', 'medianamente', 'acoplar', 'fuertemente', 'acoplar', 'sgbd'], ['herramienta', 'dcbd', 'integrar', 'variedad', 'componente', 'técnico', 'minería', 'dato', 'consultar', 'método', 'visualización', 'interfaz', 'etcétera', 'junto', 'poder', 'eficientemente', 'identificar', 'extraer', 'patrón', 'interesante', 'útil', 'dato', 'almacenar', 'base', 'dato'], ['tarea', 'desarrollar', 'herramienta', 'dcbd', 'clasificar', 'grupo', 'herramienta', 'genérico', 'tarea', 'sencillo', 'herramienta', 'genérico', 'tarea', 'múltiple', 'herramienta', 'dominio', 'específico'], ['documentar', 'presentar', 'gradar', 'optar', 'título', 'ingeniero', 'sistemas'], ['fruto', 'presentar', 'investigación', 'desarrollar', 'tariykdd', 'herramienta', 'genérica', 'descubrimiento', 'conocimiento', 'bases', 'datos', 'débilmente', 'acoplar', 'sgbd', 'postgresql', 'implementar', 'algoritmo', 'equipasso', 'matetree', 'tarea', 'asociación', 'clasificación', 'proponer', 'timarán', 'realizarón', 'prueba', 'medir', 'rendimiento'], ['restar', 'documentar', 'organizar'], ['sección', 'especificar', 'temer', 'proponer', 'enmarcar', 'líneo', 'investigación', 'delimitar'], ['continuación', 'describir', 'problema', 'objetar', 'estudiar', 'especificar', 'objetivo', 'general', 'específico', 'proyectar', 'finalmente', 'justificación'], ['sección', 'presentar', 'arte', 'área', 'integración', 'dcbd', 'sgbd'], ['sección', 'desarrollar', 'concerniente', 'análisis', 'orientar', 'objeto', 'realizar', 'construir', 'herramienta', 'sección', 'presentar', 'implementación', 'proyectar', 'sección', 'presentar', 'prueba', 'hacer', 'resultar', 'finalmente', 'sección', 'presentar', 'conclusión'], [], ['conclusiones', 'trabajos', 'futuros', 'proyectar', 'diseñar', 'implementar', 'herramienta', 'débilmente', 'acoplar', 'sgbd', 'postgresql', 'soportar', 'etapa', 'conexión', 'preprocesamiento', 'minería', 'visualización', 'procesar'], ['igualmente', 'incluir', 'estudiar', 'algoritmo', 'asociación', 'clasificación', 'proponer', 'timaran', '42,43,44,45'], ['desarrollar', 'proyectar', 'análisis', 'herramienta', 'software', 'librar', 'abordar', 'tarea', 'similar', 'pretender'], ['identificar', 'limitación', 'virtud', 'aplicación', 'diseñar', 'metodología', 'desarrollar', 'herramienta', 'cubrir', 'falencias', 'encontrar'], ['incluir', 'tariykdd', 'mejorar', 'conexión', 'base', 'dato', 'implementar', 'interfaz', 'permitir', 'selección', 'visual', 'atributo', 'establecimiento', 'relacionar', 'tabla', 'perteneciente', 'basar', 'dato'], ['implementar', 'algoritmo', 'asociación', 'clasificación', 'ausente', 'herramienta', 'fpgrowth', 'equipasso', 'mate'], ['igualmente', 'construir', 'visor', 'permitir', 'interacción', 'directo', 'resultar', 'obtener', 'tabla', 'ordenar', 'arbolar', 'jerarquizar', 'gráfico', 'distribución'], ['establecer', 'patrón', 'diseñar', 'acoplamiento', 'funcionalidad', 'módulo', 'componer', 'facilitar', 'inclusión', 'futuro', 'característico', 'mejoramiento', 'continuo', 'aplicación', 'implementación', 'sistema', 'control', 'versionar', 'facilitar', 'colaborativo', 'permitir', 'acceso', 'herramienta', 'internet'], ['construcción', 'tariykdd', 'comprender', 'desarrollar', 'módulo', 'cubrir', 'módulo', 'conexión', 'dato', 'archivo', 'plano', 'base', 'dato', 'relacional'], ['módulo', 'utilidad', 'contener', 'colección', 'clase', 'librería', 'común', 'usar', 'aplicación'], ['módulo', 'kernel', 'incluir', 'etapa', 'preprocesamiento', 'implementar', 'filtro', 'selección', 'transformación', 'preparación', 'dato', 'procesar', 'minería', 'comprender', 'tarea', 'asociación', 'clasificación', 'implementar', 'algoritmo', 'apriori', 'fpgrowth', 'equipasso', 'asociación', 'c4.5', 'mate', 'clasificación', 'procesar', 'visualización', 'resultar', 'utilizar', 'tabla', 'árbol', 'generar', 'reporte', 'resultar', 'reglar', 'obtener'], ['módulo', 'interfaz', 'gráfico', 'usuario', 'proveer', 'interacción', 'amigable', 'componente', 'usuario'], ['incluir', 'módulo', 'predicción', 'registro', 'modelo', 'construir', 'algoritmo', 'clasificación'], ['desarrollar', 'modelar', 'dato', 'facilitar', 'aplicación', 'algoritmo', 'asociación', 'base', 'dato', 'enmarcar', 'concepto', 'canasta', 'mercar', 'longitud', 'transacción', 'variable'], ['desarrollar', 'tariykdd', 'lograr', 'usar', 'totalidad', 'herramienta', 'código', 'abrir', 'software', 'librar'], ['realizar', 'prueba', 'evaluar', 'validez', 'algoritmo', 'implementar'], ['plan', 'prueba', 'tarea', 'asociación', 'utilizar', 'conjunto', 'dato', 'real', 'venta', 'supermercado', 'caja', 'compensación', 'familiar', 'nariño', 'componer', '85.692', 'transaccionar'], ['clasificación', 'trabajar', 'basar', 'dato', 'histórico', 'estudiante', 'universidad', 'nariño', 'componer', 'información', 'personal', 'académico', '20.328', 'estudiante'], ['resultar', 'prueba', 'tarea', 'clasificación', 'concluir', 'recomendable', 'algoritmo', 'c4.5', 'conjunto', 'dato', 'extenso', 'número', 'atributo', 'analizar', 'grande'], ['conjunto', 'dato', 'pequeño', 'reducir', 'número', 'atributo', 'resultar', 'viable', 'aplicar', 'algoritmo', 'mate', 'arquitectura', 'débilmente', 'acoplar'], ['resultar', 'prueba', 'asociación', 'concluir', 'algoritmo', 'fpgrowth', 'equipasso', 'obtener', 'tiempo', 'respuesta', 'aplicar', 'conjunto', 'medir', 'disminuir', 'criterio', 'soportar', 'comportamiento', 'algoritmo', 'equipasso'], ['viable', 'aplicar', 'algoritmo', 'apriori', 'conjunto', 'limitar', 'muestra', 'pequeño', 'dato'], ['proyectar', 'complementar', 'proyecto', 'tariy', 'análisis', 'rendimiento', 'algoritmos', 'reglas', 'asociación', 'ganador', 'convocatoria', 'alberto', 'quijano', 'guerrero', 'proyecto', 'investigación', 'estudiantil', 'categoría', 'investigación', 'cuantitativa', 'presentar', 'autor'], ['proyectar', 'proyecto', 'financiar', 'sistema', 'investigaciones', 'universidad', 'nariño', 'marcar', 'concurso', 'tesis', 'pregrado', 'organizar', '2006'], ['desarrollar', 'proyectar', 'participar', 'activamente', 'evento', 'regional', 'internacional', 'software', 'libre', 'semana', 'ingeniería'], ['resultar', 'proyectar', 'publicar', 'presentar', 'artículo', 'internacional', 'marcar', 'xxxii', 'congreso', 'latinoamericano', 'estudios', 'informáticos', 'clei', '2006', 'ciudad', 'santiago', 'chile'], ['versión', 'estable', 'tariykdd', 'capacidad', 'extraer', 'reglar', 'asociación', 'clasificación', 'arquitectura', 'débilmente', 'acoplar', 'sgbd', 'postgresql', 'desarrollar', 'lineamiento', 'software', 'librar'], ['describir', 'resultar', 'relevante', 'obtener', 'realización', 'proyectar', 'sugerir', 'seriar', 'recomendación', 'punto', 'partir', 'trabajo', 'futuro', 'mayor', 'prueba', 'rendimiento', 'arquitectura', 'repositorio', 'dato', 'real'], ['implementar', 'primitivo', 'timaran', 'proponer', 'tarea', 'asociación', 'clasificación'], ['implementar', 'tarea', 'algoritmo', 'minería', 'dato', 'clustering', 'patrón', 'secuencial'], ['implementar', 'filtro', 'interfaz', 'visualización', 'permitir', 'mejoramiento', 'continuo', 'tariykdd'], ['acoplar', 'gráfico', 'estadístico', 'conjunto', 'dato', 'cargar', 'obtener', 'información', 'inicial', 'característico'], ['acoplar', 'tariykdd', 'fuertemente', 'postgrekdd'], ['disponer', 'herramienta', 'material', 'apoyar', 'electivo', 'basar', 'dato', 'programar', 'ingeniería', 'sistemas'], ['liberar', 'compartir', 'difundir', 'versión', 'estable', 'tariykdd', 'capacidad', 'descubrir', 'conocimiento', 'base', 'dato'], ['asegurar', 'continuidad', 'proyectar'], ['finalmente', 'permitir', 'aplicar', 'conocimiento', 'adquirir', 'programar', 'ingeniería', 'sistemas', 'especial', 'electivo', 'base', 'dato', 'aprendizaje', 'grupo', 'investigación', 'grias', 'línea']]\n",
            "Tiempo para desarrollar vocabulario: 0.0 minutos\n",
            "Tiempo de entrenamiento del modelo: 0.62 minutos\n"
          ],
          "name": "stdout"
        }
      ]
    },
    {
      "cell_type": "markdown",
      "metadata": {
        "id": "LBDondIWK3PS"
      },
      "source": [
        "Explorar modelo "
      ]
    },
    {
      "cell_type": "code",
      "metadata": {
        "id": "e2d9n9e8KsvE",
        "outputId": "c4f8e3af-2cff-4527-8c18-6fb50cf75808",
        "colab": {
          "base_uri": "https://localhost:8080/"
        }
      },
      "source": [
        "modelo.wv.most_similar(positive=['algoritmo'.lower()],topn=10)"
      ],
      "execution_count": 19,
      "outputs": [
        {
          "output_type": "stream",
          "text": [
            "/usr/local/lib/python3.6/dist-packages/gensim/matutils.py:737: FutureWarning: Conversion of the second argument of issubdtype from `int` to `np.signedinteger` is deprecated. In future, it will be treated as `np.int64 == np.dtype(int).type`.\n",
            "  if np.issubdtype(vec.dtype, np.int):\n"
          ],
          "name": "stderr"
        },
        {
          "output_type": "execute_result",
          "data": {
            "text/plain": [
              "[('equipasso', 0.9226073622703552),\n",
              " ('mate', 0.8788968324661255),\n",
              " ('clasificación', 0.867408037185669),\n",
              " ('c4.5', 0.8538349866867065),\n",
              " ('apriori', 0.8488956689834595),\n",
              " ('fpgrowth', 0.812912106513977),\n",
              " ('asociación', 0.7723422646522522),\n",
              " ('conjunto', 0.7640636563301086),\n",
              " ('implementar', 0.7373139262199402),\n",
              " ('rendimiento', 0.7287614941596985)]"
            ]
          },
          "metadata": {
            "tags": []
          },
          "execution_count": 19
        }
      ]
    },
    {
      "cell_type": "code",
      "metadata": {
        "id": "LTcBmCrC1T8h",
        "outputId": "9e9fa0d5-d630-4ac1-f166-a10a35379f80",
        "colab": {
          "base_uri": "https://localhost:8080/"
        }
      },
      "source": [
        "modelo.wv.most_similar(positive=['clasificación','asociación'],topn=7)"
      ],
      "execution_count": 22,
      "outputs": [
        {
          "output_type": "stream",
          "text": [
            "/usr/local/lib/python3.6/dist-packages/gensim/matutils.py:737: FutureWarning: Conversion of the second argument of issubdtype from `int` to `np.signedinteger` is deprecated. In future, it will be treated as `np.int64 == np.dtype(int).type`.\n",
            "  if np.issubdtype(vec.dtype, np.int):\n"
          ],
          "name": "stderr"
        },
        {
          "output_type": "execute_result",
          "data": {
            "text/plain": [
              "[('equipasso', 0.9238492250442505),\n",
              " ('fpgrowth', 0.8791654109954834),\n",
              " ('mate', 0.8777914047241211),\n",
              " ('c4.5', 0.8713880777359009),\n",
              " ('implementar', 0.8697025775909424),\n",
              " ('apriori', 0.860634446144104),\n",
              " ('algoritmo', 0.8350250720977783)]"
            ]
          },
          "metadata": {
            "tags": []
          },
          "execution_count": 22
        }
      ]
    },
    {
      "cell_type": "markdown",
      "metadata": {
        "id": "7OOqXZDZRzca"
      },
      "source": [
        "Graficando el espacio vectorial en sus componentes principales"
      ]
    },
    {
      "cell_type": "code",
      "metadata": {
        "id": "sSoUayHjRbws",
        "outputId": "b7d514f0-5ca4-46c8-d405-b774626e95f6",
        "colab": {
          "base_uri": "https://localhost:8080/",
          "height": 955
        }
      },
      "source": [
        "from sklearn.manifold import TSNE\n",
        "import matplotlib.pyplot as plt\n",
        "%matplotlib inline\n",
        "def tsne_plot(model):\n",
        "    \"Creates and TSNE model and plots it\"\n",
        "    labels = []\n",
        "    tokens = []\n",
        "\n",
        "    for word in model.wv.vocab:\n",
        "        tokens.append(model[word])\n",
        "        labels.append(word)\n",
        "        \n",
        "\n",
        "    tsne_model = TSNE(perplexity=40, n_components=2, init='pca', n_iter=2500, random_state=23)\n",
        "    new_values = tsne_model.fit_transform(tokens)\n",
        "\n",
        "    x = []\n",
        "    y = []\n",
        "    for value in new_values:\n",
        "        x.append(value[0])\n",
        "        y.append(value[1])\n",
        "        \n",
        "    plt.figure(figsize=(16, 16)) \n",
        "    for i in range(len(x)):\n",
        "        plt.scatter(x[i],y[i])\n",
        "        plt.annotate(labels[i],\n",
        "                     xy=(x[i], y[i]),\n",
        "                     xytext=(5, 2),\n",
        "                     textcoords='offset points',\n",
        "                     ha='right',\n",
        "                     va='bottom')\n",
        "    plt.show()\n",
        "\n",
        "tsne_plot(modelo)"
      ],
      "execution_count": 29,
      "outputs": [
        {
          "output_type": "stream",
          "text": [
            "/usr/local/lib/python3.6/dist-packages/ipykernel_launcher.py:10: DeprecationWarning: Call to deprecated `__getitem__` (Method will be removed in 4.0.0, use self.wv.__getitem__() instead).\n",
            "  # Remove the CWD from sys.path while we load stuff.\n"
          ],
          "name": "stderr"
        },
        {
          "output_type": "display_data",
          "data": {
            "image/png": "[encoded data removed]",
            "text/plain": [
              "<Figure size 1152x1152 with 1 Axes>"
            ]
          },
          "metadata": {
            "tags": [],
            "needs_background": "light"
          }
        }
      ]
    },
    {
      "cell_type": "markdown",
      "metadata": {
        "id": "OmuMwmP0Zkmd"
      },
      "source": [
        "**Doc2Vec**\n",
        "\n",
        "\n",
        "Sobre la base de Word2Vec, los investigadores también han implementado una representación vectorial de documentos o párrafos, popularmente llamado Doc2Vec. Esto significa que ahora podemos usar el poder de la comprensión semántica de Word2Vec para describir documentos también, y en cualquier dimensión en la que nos gustaría entrenarlo!"
      ]
    },
    {
      "cell_type": "markdown",
      "metadata": {
        "id": "wS30HPERcNhR"
      },
      "source": [
        "Construir nuestro modelo propio de análisis de sentimientos "
      ]
    },
    {
      "cell_type": "markdown",
      "metadata": {
        "id": "0QfBYFpucTRs"
      },
      "source": [
        "Importar librerías "
      ]
    },
    {
      "cell_type": "code",
      "metadata": {
        "id": "L62eCk_FdLDa",
        "outputId": "66ecfc84-47b1-4d87-af81-e5acc197148a",
        "colab": {
          "base_uri": "https://localhost:8080/"
        }
      },
      "source": [
        "!pip install faiss-gpu"
      ],
      "execution_count": 30,
      "outputs": [
        {
          "output_type": "stream",
          "text": [
            "Collecting faiss-gpu\n",
            "\u001b[?25l  Downloading https://files.pythonhosted.org/packages/21/bf/19bed35c0e4a6534b151944f09acef73e73aa440e0a80664cfed7424e01c/faiss_gpu-1.6.4-cp36-cp36m-manylinux2014_x86_64.whl (67.6MB)\n",
            "\u001b[K     |████████████████████████████████| 67.6MB 56kB/s \n",
            "\u001b[?25hInstalling collected packages: faiss-gpu\n",
            "Successfully installed faiss-gpu-1.6.4\n"
          ],
          "name": "stdout"
        }
      ]
    },
    {
      "cell_type": "code",
      "metadata": {
        "id": "_bFCv-Kwa8X8",
        "outputId": "0deb5f73-d5fd-40a7-e6af-3d6c32d07de9",
        "colab": {
          "base_uri": "https://localhost:8080/"
        }
      },
      "source": [
        "import pandas as pd\n",
        "import gensim\n",
        "import torch\n",
        "import matplotlib.pyplot as plt\n",
        "import string\n",
        "import nltk\n",
        "from nltk.stem import SnowballStemmer\n",
        "from gensim.models.doc2vec import Doc2Vec\n",
        "import faiss\n",
        "import numpy as np\n",
        "nltk.download('stopwords')\n",
        "nltk.download('punkt')"
      ],
      "execution_count": 31,
      "outputs": [
        {
          "output_type": "stream",
          "text": [
            "[nltk_data] Downloading package stopwords to /root/nltk_data...\n",
            "[nltk_data]   Unzipping corpora/stopwords.zip.\n",
            "[nltk_data] Downloading package punkt to /root/nltk_data...\n",
            "[nltk_data]   Unzipping tokenizers/punkt.zip.\n"
          ],
          "name": "stdout"
        },
        {
          "output_type": "execute_result",
          "data": {
            "text/plain": [
              "True"
            ]
          },
          "metadata": {
            "tags": []
          },
          "execution_count": 31
        }
      ]
    },
    {
      "cell_type": "markdown",
      "metadata": {
        "id": "BN2CfS7HhIsq"
      },
      "source": [
        "Leer el conjunto de tweets"
      ]
    },
    {
      "cell_type": "code",
      "metadata": {
        "id": "S6VxUDU-hUBq",
        "outputId": "4136545e-e0a1-4082-a73c-7459e101d967",
        "colab": {
          "base_uri": "https://localhost:8080/",
          "height": 198
        }
      },
      "source": [
        "df=pd.read_csv(\"/content/drive/My Drive/NLP TALLER/tweet_sentimientos.csv\",sep=\"|\",index_col=0)\n",
        "df.head()"
      ],
      "execution_count": 32,
      "outputs": [
        {
          "output_type": "execute_result",
          "data": {
            "text/html": [
              "<div>\n",
              "<style scoped>\n",
              "    .dataframe tbody tr th:only-of-type {\n",
              "        vertical-align: middle;\n",
              "    }\n",
              "\n",
              "    .dataframe tbody tr th {\n",
              "        vertical-align: top;\n",
              "    }\n",
              "\n",
              "    .dataframe thead th {\n",
              "        text-align: right;\n",
              "    }\n",
              "</style>\n",
              "<table border=\"1\" class=\"dataframe\">\n",
              "  <thead>\n",
              "    <tr style=\"text-align: right;\">\n",
              "      <th></th>\n",
              "      <th>tweet</th>\n",
              "      <th>clase</th>\n",
              "    </tr>\n",
              "  </thead>\n",
              "  <tbody>\n",
              "    <tr>\n",
              "      <th>0</th>\n",
              "      <td>abcdesevilla.es: Recio no tiene «indicios pote...</td>\n",
              "      <td>0</td>\n",
              "    </tr>\n",
              "    <tr>\n",
              "      <th>1</th>\n",
              "      <td>abcdesevilla.es: Cuatro altos cargos de Empleo...</td>\n",
              "      <td>0</td>\n",
              "    </tr>\n",
              "    <tr>\n",
              "      <th>2</th>\n",
              "      <td>La marcha atrás del PP en posponer devolución ...</td>\n",
              "      <td>0</td>\n",
              "    </tr>\n",
              "    <tr>\n",
              "      <th>3</th>\n",
              "      <td>Accidente en BUS-VAO A-6 km. 12. Motorista de ...</td>\n",
              "      <td>0</td>\n",
              "    </tr>\n",
              "    <tr>\n",
              "      <th>4</th>\n",
              "      <td>#FF a ti, que deseas desesperadamente hacerme ...</td>\n",
              "      <td>0</td>\n",
              "    </tr>\n",
              "  </tbody>\n",
              "</table>\n",
              "</div>"
            ],
            "text/plain": [
              "                                               tweet  clase\n",
              "0  abcdesevilla.es: Recio no tiene «indicios pote...      0\n",
              "1  abcdesevilla.es: Cuatro altos cargos de Empleo...      0\n",
              "2  La marcha atrás del PP en posponer devolución ...      0\n",
              "3  Accidente en BUS-VAO A-6 km. 12. Motorista de ...      0\n",
              "4  #FF a ti, que deseas desesperadamente hacerme ...      0"
            ]
          },
          "metadata": {
            "tags": []
          },
          "execution_count": 32
        }
      ]
    },
    {
      "cell_type": "markdown",
      "metadata": {
        "id": "hz8QPiPbiXW9"
      },
      "source": [
        "Explorar datos"
      ]
    },
    {
      "cell_type": "code",
      "metadata": {
        "id": "kEIw-aOyiV5K",
        "outputId": "014c4a80-c721-4e48-99bd-4ba911ce3b52",
        "colab": {
          "base_uri": "https://localhost:8080/",
          "height": 318
        }
      },
      "source": [
        "print(df['clase'].value_counts())\n",
        "plt.pie(df['clase'].value_counts(), labels=df['clase'].value_counts().index,\n",
        "        autopct='%1.1f%%', shadow=True, startangle=90)\n",
        "plt.title('tweets')\n",
        "plt.show()"
      ],
      "execution_count": 33,
      "outputs": [
        {
          "output_type": "stream",
          "text": [
            "0    7808\n",
            "1    5393\n",
            "Name: clase, dtype: int64\n"
          ],
          "name": "stdout"
        },
        {
          "output_type": "display_data",
          "data": {
            "image/png": "[encoded data removed]",
            "text/plain": [
              "<Figure size 432x288 with 1 Axes>"
            ]
          },
          "metadata": {
            "tags": []
          }
        }
      ]
    },
    {
      "cell_type": "markdown",
      "metadata": {
        "id": "jLRxSnjzjsdt"
      },
      "source": [
        "Procesamiento y limpiez de los textos"
      ]
    },
    {
      "cell_type": "code",
      "metadata": {
        "id": "qo5PTW9oixVS",
        "outputId": "b9ea331c-f2bb-4426-e556-7ac934e6f9e4",
        "colab": {
          "base_uri": "https://localhost:8080/",
          "height": 198
        }
      },
      "source": [
        "#Función Convertir el texto en minúsculas, eliminar el texto entre corchetes, eliminar la puntuación y eliminar las palabras que contienen números '' '.\n",
        "def texto_limpio(t):\n",
        "  t=str(t)\n",
        "  t=t.lower()\n",
        "  t=re.sub('\\[.*?¿\\]\\%', ' ', t)\n",
        "  t=re.sub('[%s]' % re.escape(string.punctuation), ' ', t)\n",
        "  t=re.sub('\\w*\\d\\w*', '', t)\n",
        "  t=re.sub('[‘’“”…«»]', '', t)\n",
        "  t=re.sub('\\n', ' ', t)\n",
        "  return t\n",
        "\n",
        "round = lambda x: texto_limpio(x)\n",
        "\n",
        "df['tweet_limpio'] = df.tweet.apply(round)\n",
        "df.head(5)"
      ],
      "execution_count": 34,
      "outputs": [
        {
          "output_type": "execute_result",
          "data": {
            "text/html": [
              "<div>\n",
              "<style scoped>\n",
              "    .dataframe tbody tr th:only-of-type {\n",
              "        vertical-align: middle;\n",
              "    }\n",
              "\n",
              "    .dataframe tbody tr th {\n",
              "        vertical-align: top;\n",
              "    }\n",
              "\n",
              "    .dataframe thead th {\n",
              "        text-align: right;\n",
              "    }\n",
              "</style>\n",
              "<table border=\"1\" class=\"dataframe\">\n",
              "  <thead>\n",
              "    <tr style=\"text-align: right;\">\n",
              "      <th></th>\n",
              "      <th>tweet</th>\n",
              "      <th>clase</th>\n",
              "      <th>tweet_limpio</th>\n",
              "    </tr>\n",
              "  </thead>\n",
              "  <tbody>\n",
              "    <tr>\n",
              "      <th>0</th>\n",
              "      <td>abcdesevilla.es: Recio no tiene «indicios pote...</td>\n",
              "      <td>0</td>\n",
              "      <td>abcdesevilla es  recio no tiene indicios poten...</td>\n",
              "    </tr>\n",
              "    <tr>\n",
              "      <th>1</th>\n",
              "      <td>abcdesevilla.es: Cuatro altos cargos de Empleo...</td>\n",
              "      <td>0</td>\n",
              "      <td>abcdesevilla es  cuatro altos cargos de empleo...</td>\n",
              "    </tr>\n",
              "    <tr>\n",
              "      <th>2</th>\n",
              "      <td>La marcha atrás del PP en posponer devolución ...</td>\n",
              "      <td>0</td>\n",
              "      <td>la marcha atrás del pp en posponer devolución ...</td>\n",
              "    </tr>\n",
              "    <tr>\n",
              "      <th>3</th>\n",
              "      <td>Accidente en BUS-VAO A-6 km. 12. Motorista de ...</td>\n",
              "      <td>0</td>\n",
              "      <td>accidente en bus vao a  km    motorista de  añ...</td>\n",
              "    </tr>\n",
              "    <tr>\n",
              "      <th>4</th>\n",
              "      <td>#FF a ti, que deseas desesperadamente hacerme ...</td>\n",
              "      <td>0</td>\n",
              "      <td>ff a ti  que deseas desesperadamente hacerme ...</td>\n",
              "    </tr>\n",
              "  </tbody>\n",
              "</table>\n",
              "</div>"
            ],
            "text/plain": [
              "                                               tweet  ...                                       tweet_limpio\n",
              "0  abcdesevilla.es: Recio no tiene «indicios pote...  ...  abcdesevilla es  recio no tiene indicios poten...\n",
              "1  abcdesevilla.es: Cuatro altos cargos de Empleo...  ...  abcdesevilla es  cuatro altos cargos de empleo...\n",
              "2  La marcha atrás del PP en posponer devolución ...  ...  la marcha atrás del pp en posponer devolución ...\n",
              "3  Accidente en BUS-VAO A-6 km. 12. Motorista de ...  ...  accidente en bus vao a  km    motorista de  añ...\n",
              "4  #FF a ti, que deseas desesperadamente hacerme ...  ...   ff a ti  que deseas desesperadamente hacerme ...\n",
              "\n",
              "[5 rows x 3 columns]"
            ]
          },
          "metadata": {
            "tags": []
          },
          "execution_count": 34
        }
      ]
    },
    {
      "cell_type": "markdown",
      "metadata": {
        "id": "gSmw1KgAmKaN"
      },
      "source": [
        "Tokenizar"
      ]
    },
    {
      "cell_type": "code",
      "metadata": {
        "id": "4h_KWgKEmJQ1",
        "outputId": "636f7a9b-4902-4761-a27a-08faf55c5a92",
        "colab": {
          "base_uri": "https://localhost:8080/"
        }
      },
      "source": [
        "%%time\n",
        "stemmer = SnowballStemmer('spanish')\n",
        "#display(stemmer.stem('administrador'))\n",
        "\n",
        "def tokenizar(text):\n",
        "  text=text.lower()\n",
        "  doc1 = nlp(text)\n",
        "  words=[]\n",
        "  for t in doc1:\n",
        "    if  t.is_punct or  t.is_stop or t.is_space:\n",
        "      continue\n",
        "    words.append(stemmer.stem(str(t)))\n",
        "\n",
        "  return ' '.join(words)\n",
        "\n",
        "df['tokens'] = df.apply(lambda row: tokenizar(str(row['tweet_limpio'])),axis=1)"
      ],
      "execution_count": 60,
      "outputs": [
        {
          "output_type": "stream",
          "text": [
            "CPU times: user 1min 51s, sys: 178 ms, total: 1min 51s\n",
            "Wall time: 1min 51s\n"
          ],
          "name": "stdout"
        }
      ]
    },
    {
      "cell_type": "code",
      "metadata": {
        "id": "wu3qMe17ofBF",
        "outputId": "20267e39-0e3a-4e8b-90e5-42efcc5de852",
        "colab": {
          "base_uri": "https://localhost:8080/",
          "height": 198
        }
      },
      "source": [
        "df.head()"
      ],
      "execution_count": 63,
      "outputs": [
        {
          "output_type": "execute_result",
          "data": {
            "text/html": [
              "<div>\n",
              "<style scoped>\n",
              "    .dataframe tbody tr th:only-of-type {\n",
              "        vertical-align: middle;\n",
              "    }\n",
              "\n",
              "    .dataframe tbody tr th {\n",
              "        vertical-align: top;\n",
              "    }\n",
              "\n",
              "    .dataframe thead th {\n",
              "        text-align: right;\n",
              "    }\n",
              "</style>\n",
              "<table border=\"1\" class=\"dataframe\">\n",
              "  <thead>\n",
              "    <tr style=\"text-align: right;\">\n",
              "      <th></th>\n",
              "      <th>tweet</th>\n",
              "      <th>clase</th>\n",
              "      <th>tweet_limpio</th>\n",
              "      <th>tokens</th>\n",
              "    </tr>\n",
              "  </thead>\n",
              "  <tbody>\n",
              "    <tr>\n",
              "      <th>0</th>\n",
              "      <td>abcdesevilla.es: Recio no tiene «indicios pote...</td>\n",
              "      <td>0</td>\n",
              "      <td>abcdesevilla es  recio no tiene indicios poten...</td>\n",
              "      <td>abcdesevill reci indici potent denunci a respo...</td>\n",
              "    </tr>\n",
              "    <tr>\n",
              "      <th>1</th>\n",
              "      <td>abcdesevilla.es: Cuatro altos cargos de Empleo...</td>\n",
              "      <td>0</td>\n",
              "      <td>abcdesevilla es  cuatro altos cargos de empleo...</td>\n",
              "      <td>abcdesevill altos carg denunci retir prejubil ...</td>\n",
              "    </tr>\n",
              "    <tr>\n",
              "      <th>2</th>\n",
              "      <td>La marcha atrás del PP en posponer devolución ...</td>\n",
              "      <td>0</td>\n",
              "      <td>la marcha atrás del pp en posponer devolución ...</td>\n",
              "      <td>march atras pp pospon devolu cca resbalon deb ...</td>\n",
              "    </tr>\n",
              "    <tr>\n",
              "      <th>3</th>\n",
              "      <td>Accidente en BUS-VAO A-6 km. 12. Motorista de ...</td>\n",
              "      <td>0</td>\n",
              "      <td>accidente en bus vao a  km    motorista de  añ...</td>\n",
              "      <td>accident bus vao a km motor años her grav samu...</td>\n",
              "    </tr>\n",
              "    <tr>\n",
              "      <th>4</th>\n",
              "      <td>#FF a ti, que deseas desesperadamente hacerme ...</td>\n",
              "      <td>0</td>\n",
              "      <td>ff a ti  que deseas desesperadamente hacerme ...</td>\n",
              "      <td>ff a des desesper hac ff diran</td>\n",
              "    </tr>\n",
              "  </tbody>\n",
              "</table>\n",
              "</div>"
            ],
            "text/plain": [
              "                                               tweet  ...                                             tokens\n",
              "0  abcdesevilla.es: Recio no tiene «indicios pote...  ...  abcdesevill reci indici potent denunci a respo...\n",
              "1  abcdesevilla.es: Cuatro altos cargos de Empleo...  ...  abcdesevill altos carg denunci retir prejubil ...\n",
              "2  La marcha atrás del PP en posponer devolución ...  ...  march atras pp pospon devolu cca resbalon deb ...\n",
              "3  Accidente en BUS-VAO A-6 km. 12. Motorista de ...  ...  accident bus vao a km motor años her grav samu...\n",
              "4  #FF a ti, que deseas desesperadamente hacerme ...  ...                     ff a des desesper hac ff diran\n",
              "\n",
              "[5 rows x 4 columns]"
            ]
          },
          "metadata": {
            "tags": []
          },
          "execution_count": 63
        }
      ]
    },
    {
      "cell_type": "markdown",
      "metadata": {
        "id": "1AsTlbgynaOL"
      },
      "source": [
        "Para construir nuestro corpus, usaremos la clase TaggedDocument."
      ]
    },
    {
      "cell_type": "code",
      "metadata": {
        "id": "Lb_MMTonndej"
      },
      "source": [
        "def read_corpus(df, tokens_only=False):\n",
        "        i=0\n",
        "        for line in df['tokens']:\n",
        "            tokens = gensim.utils.simple_preprocess(str(line))\n",
        "            yield gensim.models.doc2vec.TaggedDocument(tokens, [i])\n",
        "            i=i+1\n",
        "train_corpus = list(read_corpus(df))"
      ],
      "execution_count": 37,
      "outputs": []
    },
    {
      "cell_type": "markdown",
      "metadata": {
        "id": "ovEPgdx_o8lj"
      },
      "source": [
        "#Entrenar modelo Doc2vec y guardarlo "
      ]
    },
    {
      "cell_type": "code",
      "metadata": {
        "id": "1H56ApqqZ24p",
        "outputId": "5f293d81-d6a0-47ab-eb74-61021f5a8d91",
        "colab": {
          "base_uri": "https://localhost:8080/"
        }
      },
      "source": [
        "%%time\n",
        "ruta_drive=\"/content/drive/My Drive/NLP TALLER/\"\n",
        "#modelo=\"modelo_docwvec_corpus_tw_dm1_3000.dat\"\n",
        "#modelo=\"modelodoc2vec_dm0_resumen.dat\"\n",
        "modelo=\"modelo_tweet\"\n",
        "\n",
        "\n",
        "model = gensim.models.doc2vec.Doc2Vec(\n",
        "      vector_size=5, \n",
        "      min_count=1, \n",
        "      epochs=100,\n",
        "      hs=0, #Cero para negative sampling\n",
        "      negative=15, #si> 0, se utilizará un muestreo negativo, el int para negativo especifica cuántas \"palabras irrelevantes\" se deben dibujar (normalmente entre 5 y 20).\n",
        "      alpha=0.003, #Tasa de aprendizaje\n",
        "      min_alpha=0.00005, #Tasa que se reducira durante el train\n",
        "      workers=8,\n",
        "      dm=1,\n",
        "      sample=0.5,#El umbral para configurar qué palabras de mayor frecuencia se muestrean aleatoriamente, rango útil es (0, 1e-5).\n",
        "      window=3, #Contexto, distancia entre palabras predichas\n",
        "      ns_exponent=0.75, #Muestrea frecuencias por igual,exponente utilizado para dar forma a la distribución de muestreo negativa. Un valor de 1.0 muestrea exactamente en proporción a las frecuencias, 0.0 muestrea todas las palabras por igual, mientras que un valor negativo muestra las palabras de baja frecuencia más que las palabras de alta frecuencia. El popular valor predeterminado de 0,75 fue elegido por el documento original de Word2Vec.\n",
        "      dm_mean=1, #si es 0, use la suma de los vectores de palabras de contexto. Si es 1, usa la media.\n",
        "      #seed=25,\n",
        "      \n",
        "       )\n",
        "\n",
        "model.build_vocab(train_corpus)\n",
        "model.train(train_corpus, total_examples=model.corpus_count, epochs=model.epochs)\n",
        "model.save(ruta_drive+modelo)"
      ],
      "execution_count": 259,
      "outputs": [
        {
          "output_type": "stream",
          "text": [
            "CPU times: user 2min 1s, sys: 30.5 s, total: 2min 32s\n",
            "Wall time: 1min 52s\n"
          ],
          "name": "stdout"
        }
      ]
    },
    {
      "cell_type": "code",
      "metadata": {
        "id": "BxlBJ3rJpLHc",
        "outputId": "3f3b8f8a-bfcf-40ce-dfd1-e886b7926044",
        "colab": {
          "base_uri": "https://localhost:8080/"
        }
      },
      "source": [
        "%%time\n",
        "ruta_drive=\"/content/drive/My Drive/NLP TALLER/\"\n",
        "#modelo=\"modelo_docwvec_corpus_tw.dat\"\n",
        "#modelo=\"modelodoc2vec_dm0_resumen.dat\"\n",
        "model = gensim.models.doc2vec.Doc2Vec(\n",
        "      vector_size=5, \n",
        "      min_count=1, \n",
        "      epochs=50,\n",
        "      workers=8,\n",
        "      dm=1,\n",
        "      window=10,\n",
        "      dm_mean=1, \n",
        "      negative=20\n",
        "       )\n",
        "\n",
        "model.build_vocab(train_corpus)\n",
        "model.train(train_corpus, total_examples=model.corpus_count, epochs=model.epochs)\n",
        "#model.save(ruta_drive+modelo)"
      ],
      "execution_count": 181,
      "outputs": [
        {
          "output_type": "stream",
          "text": [
            "CPU times: user 1min 6s, sys: 14.2 s, total: 1min 21s\n",
            "Wall time: 60 s\n"
          ],
          "name": "stdout"
        }
      ]
    },
    {
      "cell_type": "markdown",
      "metadata": {
        "id": "bdqLw12yp7pb"
      },
      "source": [
        "#Cargar un modelo ya entrenado"
      ]
    },
    {
      "cell_type": "code",
      "metadata": {
        "id": "0C88sZbWqBfc",
        "outputId": "4d3d88f6-5bd9-4463-fb03-f205b6ae7e68",
        "colab": {
          "base_uri": "https://localhost:8080/"
        }
      },
      "source": [
        "\n",
        "ruta_drive=\"/content/drive/My Drive/NLP TALLER/\"\n",
        "modelo=\"modelo_docwvec_corpus_tw.dat\"\n",
        "\n",
        "model=Doc2Vec.load(ruta_drive+modelo)\n",
        "model.epochs"
      ],
      "execution_count": 182,
      "outputs": [
        {
          "output_type": "execute_result",
          "data": {
            "text/plain": [
              "50"
            ]
          },
          "metadata": {
            "tags": []
          },
          "execution_count": 182
        }
      ]
    },
    {
      "cell_type": "code",
      "metadata": {
        "id": "d46h7BSd4k-h"
      },
      "source": [
        "model.delete_temporary_training_data(keep_doctags_vectors=True, keep_inference=True)"
      ],
      "execution_count": 219,
      "outputs": []
    },
    {
      "cell_type": "markdown",
      "metadata": {
        "id": "yI32zD7KtUKq"
      },
      "source": [
        "#Aplicar el modelo a los tweets y obtener vectores"
      ]
    },
    {
      "cell_type": "code",
      "metadata": {
        "id": "kBXtbRS8tDDw",
        "outputId": "94614729-1806-4b88-9511-3cf1faa40a3d",
        "colab": {
          "base_uri": "https://localhost:8080/"
        }
      },
      "source": [
        "%%time\n",
        "vectors = [\n",
        "  # tomar el documento, devolverlo como tensores de PyTorch (vectores),\n",
        "  # y pasarlo al modelo\n",
        "  torch.from_numpy((model.infer_vector((df.tokens[indice]))))\n",
        "\n",
        "  #torch.from_numpy(model.docvecs[indice])\n",
        "  for indice in df.index\n",
        "]"
      ],
      "execution_count": 260,
      "outputs": [
        {
          "output_type": "stream",
          "text": [
            "CPU times: user 34.4 s, sys: 92.5 ms, total: 34.5 s\n",
            "Wall time: 34.3 s\n"
          ],
          "name": "stdout"
        }
      ]
    },
    {
      "cell_type": "code",
      "metadata": {
        "id": "JmDSydjz0_gR",
        "outputId": "898cd3d8-f289-46ba-c41e-c194694260cf",
        "colab": {
          "base_uri": "https://localhost:8080/"
        }
      },
      "source": [
        "from joblib import dump, load # Guardar/Cargar modelos\n",
        "dump(vectors,\"/content/drive/My Drive/NLP TALLER/vectors_tweet_sentimientos.dat\")"
      ],
      "execution_count": null,
      "outputs": [
        {
          "output_type": "execute_result",
          "data": {
            "text/plain": [
              "['/content/drive/My Drive/NLP TALLER/vectors_tweet_sentimientos.dat']"
            ]
          },
          "metadata": {
            "tags": []
          },
          "execution_count": 158
        }
      ]
    },
    {
      "cell_type": "code",
      "metadata": {
        "id": "IMl4bbkR1eBK"
      },
      "source": [
        "vectors1=vectors\n",
        "vectors=load(\"/content/drive/My Drive/NLP TALLER/vectors_tweet_sentimientos.dat\")\n"
      ],
      "execution_count": null,
      "outputs": []
    },
    {
      "cell_type": "markdown",
      "metadata": {
        "id": "RXkhShtF2b--"
      },
      "source": [
        "¡Lo conseguimos! Una representación unificada y compacta para cada uno de nuestros documentos, todos de tamaño 5. Empaquételo en una función que podamos reutilizar:"
      ]
    },
    {
      "cell_type": "code",
      "metadata": {
        "id": "mjXDfonu2iKT",
        "outputId": "05017460-a3fe-4ad6-c410-dce7f2a355c0",
        "colab": {
          "base_uri": "https://localhost:8080/"
        }
      },
      "source": [
        "def encode(document: str) -> torch.Tensor:\n",
        "  return torch.from_numpy((model.infer_vector(tokenizar(document))))\n",
        "\n",
        "encode(\"Me siento triste\")\n"
      ],
      "execution_count": 271,
      "outputs": [
        {
          "output_type": "execute_result",
          "data": {
            "text/plain": [
              "tensor([-0.0324, -0.0120,  0.0375, -0.0872,  0.0987])"
            ]
          },
          "metadata": {
            "tags": []
          },
          "execution_count": 271
        }
      ]
    },
    {
      "cell_type": "markdown",
      "metadata": {
        "id": "RUN5eLRQB7HT"
      },
      "source": [
        "Construir un data frame de vectores"
      ]
    },
    {
      "cell_type": "code",
      "metadata": {
        "id": "iopoLHghB5N8",
        "outputId": "20eba5fd-70be-4976-91d0-970a819c4bc6",
        "colab": {
          "base_uri": "https://localhost:8080/"
        }
      },
      "source": [
        "%%time\n",
        "def inferir_df(modelo,df):\n",
        "  obs=df.tokens\n",
        "  ids=df.index\n",
        "  id_documento=[]\n",
        "  arrays=[]\n",
        "  i=0\n",
        "  while i<len(df):\n",
        "    try:\n",
        "      arrays.append(modelo.infer_vector(obs[i]))\n",
        "      id_documento.append(ids[i])\n",
        "      i=i+1\n",
        "    except:\n",
        "      #arrays.append(modelo.infer_vector(obs[i]))\n",
        "      arrays.append(modelo.docvecs[i])\n",
        "      id_documento.append(ids[i])\n",
        "      i=i+1\n",
        "\n",
        "  \n",
        "  a=np.asarray(arrays)\n",
        "\n",
        "  df_doc2vec=pd.DataFrame(data=a[0:,0:],\n",
        "            index=id_documento,\n",
        "            columns=['v'+str(i) for i in range(a.shape[1])])\n",
        "            \n",
        "\n",
        "  return(df_doc2vec)\n",
        "\n",
        "df_vector=inferir_df(model,df)"
      ],
      "execution_count": 272,
      "outputs": [
        {
          "output_type": "stream",
          "text": [
            "CPU times: user 34.4 s, sys: 33.7 ms, total: 34.4 s\n",
            "Wall time: 34.1 s\n"
          ],
          "name": "stdout"
        }
      ]
    },
    {
      "cell_type": "code",
      "metadata": {
        "id": "l9elx2FrHcaZ",
        "outputId": "58183209-be1f-44ff-86eb-16b5dbdc0107",
        "colab": {
          "base_uri": "https://localhost:8080/",
          "height": 198
        }
      },
      "source": [
        "df_vector['clase']=df.clase\n",
        "#df_vector.to_csv(\"/content/drive/My Drive/NLP TALLER/tweet_sentimientos_vectores.csv\",sep=\"|\")\n",
        "df_vector.head()"
      ],
      "execution_count": 273,
      "outputs": [
        {
          "output_type": "execute_result",
          "data": {
            "text/html": [
              "<div>\n",
              "<style scoped>\n",
              "    .dataframe tbody tr th:only-of-type {\n",
              "        vertical-align: middle;\n",
              "    }\n",
              "\n",
              "    .dataframe tbody tr th {\n",
              "        vertical-align: top;\n",
              "    }\n",
              "\n",
              "    .dataframe thead th {\n",
              "        text-align: right;\n",
              "    }\n",
              "</style>\n",
              "<table border=\"1\" class=\"dataframe\">\n",
              "  <thead>\n",
              "    <tr style=\"text-align: right;\">\n",
              "      <th></th>\n",
              "      <th>v0</th>\n",
              "      <th>v1</th>\n",
              "      <th>v2</th>\n",
              "      <th>v3</th>\n",
              "      <th>v4</th>\n",
              "      <th>clase</th>\n",
              "    </tr>\n",
              "  </thead>\n",
              "  <tbody>\n",
              "    <tr>\n",
              "      <th>0</th>\n",
              "      <td>-0.004447</td>\n",
              "      <td>-0.090477</td>\n",
              "      <td>0.087576</td>\n",
              "      <td>0.010109</td>\n",
              "      <td>-0.001577</td>\n",
              "      <td>0</td>\n",
              "    </tr>\n",
              "    <tr>\n",
              "      <th>1</th>\n",
              "      <td>0.064987</td>\n",
              "      <td>0.020331</td>\n",
              "      <td>-0.020234</td>\n",
              "      <td>0.036723</td>\n",
              "      <td>0.085471</td>\n",
              "      <td>0</td>\n",
              "    </tr>\n",
              "    <tr>\n",
              "      <th>2</th>\n",
              "      <td>-0.006999</td>\n",
              "      <td>-0.067843</td>\n",
              "      <td>-0.035160</td>\n",
              "      <td>-0.074036</td>\n",
              "      <td>-0.095497</td>\n",
              "      <td>0</td>\n",
              "    </tr>\n",
              "    <tr>\n",
              "      <th>3</th>\n",
              "      <td>0.011136</td>\n",
              "      <td>-0.037688</td>\n",
              "      <td>-0.091037</td>\n",
              "      <td>-0.035200</td>\n",
              "      <td>0.004895</td>\n",
              "      <td>0</td>\n",
              "    </tr>\n",
              "    <tr>\n",
              "      <th>4</th>\n",
              "      <td>0.022595</td>\n",
              "      <td>-0.086138</td>\n",
              "      <td>-0.062524</td>\n",
              "      <td>0.098046</td>\n",
              "      <td>0.039982</td>\n",
              "      <td>0</td>\n",
              "    </tr>\n",
              "  </tbody>\n",
              "</table>\n",
              "</div>"
            ],
            "text/plain": [
              "         v0        v1        v2        v3        v4  clase\n",
              "0 -0.004447 -0.090477  0.087576  0.010109 -0.001577      0\n",
              "1  0.064987  0.020331 -0.020234  0.036723  0.085471      0\n",
              "2 -0.006999 -0.067843 -0.035160 -0.074036 -0.095497      0\n",
              "3  0.011136 -0.037688 -0.091037 -0.035200  0.004895      0\n",
              "4  0.022595 -0.086138 -0.062524  0.098046  0.039982      0"
            ]
          },
          "metadata": {
            "tags": []
          },
          "execution_count": 273
        }
      ]
    },
    {
      "cell_type": "markdown",
      "metadata": {
        "id": "ycGq10KFIH6m"
      },
      "source": [
        "**Entrenamiento de un modelo de Aprendizaje**"
      ]
    },
    {
      "cell_type": "code",
      "metadata": {
        "id": "UrFYQENMH5ij",
        "outputId": "37bfb6b2-84b1-4853-9302-f8962bcc43a8",
        "colab": {
          "base_uri": "https://localhost:8080/",
          "height": 198
        }
      },
      "source": [
        "df_vector=pd.read_csv(\"/content/drive/My Drive/NLP TALLER/tweet_sentimientos_vectores.csv\",sep=\"|\",index_col=0)\n",
        "df_vector.head()"
      ],
      "execution_count": null,
      "outputs": [
        {
          "output_type": "execute_result",
          "data": {
            "text/html": [
              "<div>\n",
              "<style scoped>\n",
              "    .dataframe tbody tr th:only-of-type {\n",
              "        vertical-align: middle;\n",
              "    }\n",
              "\n",
              "    .dataframe tbody tr th {\n",
              "        vertical-align: top;\n",
              "    }\n",
              "\n",
              "    .dataframe thead th {\n",
              "        text-align: right;\n",
              "    }\n",
              "</style>\n",
              "<table border=\"1\" class=\"dataframe\">\n",
              "  <thead>\n",
              "    <tr style=\"text-align: right;\">\n",
              "      <th></th>\n",
              "      <th>v0</th>\n",
              "      <th>v1</th>\n",
              "      <th>v2</th>\n",
              "      <th>v3</th>\n",
              "      <th>v4</th>\n",
              "      <th>clase</th>\n",
              "    </tr>\n",
              "  </thead>\n",
              "  <tbody>\n",
              "    <tr>\n",
              "      <th>0</th>\n",
              "      <td>0.056987</td>\n",
              "      <td>-0.082141</td>\n",
              "      <td>-0.016048</td>\n",
              "      <td>0.036881</td>\n",
              "      <td>0.052245</td>\n",
              "      <td>0</td>\n",
              "    </tr>\n",
              "    <tr>\n",
              "      <th>1</th>\n",
              "      <td>-0.031887</td>\n",
              "      <td>0.018747</td>\n",
              "      <td>-0.088299</td>\n",
              "      <td>-0.060999</td>\n",
              "      <td>0.063121</td>\n",
              "      <td>0</td>\n",
              "    </tr>\n",
              "    <tr>\n",
              "      <th>2</th>\n",
              "      <td>-0.055255</td>\n",
              "      <td>-0.042334</td>\n",
              "      <td>0.052903</td>\n",
              "      <td>-0.072363</td>\n",
              "      <td>0.029995</td>\n",
              "      <td>0</td>\n",
              "    </tr>\n",
              "    <tr>\n",
              "      <th>3</th>\n",
              "      <td>0.066135</td>\n",
              "      <td>0.083192</td>\n",
              "      <td>-0.057470</td>\n",
              "      <td>-0.053617</td>\n",
              "      <td>-0.093232</td>\n",
              "      <td>0</td>\n",
              "    </tr>\n",
              "    <tr>\n",
              "      <th>4</th>\n",
              "      <td>0.059217</td>\n",
              "      <td>0.026395</td>\n",
              "      <td>-0.099240</td>\n",
              "      <td>0.082319</td>\n",
              "      <td>0.010302</td>\n",
              "      <td>0</td>\n",
              "    </tr>\n",
              "  </tbody>\n",
              "</table>\n",
              "</div>"
            ],
            "text/plain": [
              "         v0        v1        v2        v3        v4  clase\n",
              "0  0.056987 -0.082141 -0.016048  0.036881  0.052245      0\n",
              "1 -0.031887  0.018747 -0.088299 -0.060999  0.063121      0\n",
              "2 -0.055255 -0.042334  0.052903 -0.072363  0.029995      0\n",
              "3  0.066135  0.083192 -0.057470 -0.053617 -0.093232      0\n",
              "4  0.059217  0.026395 -0.099240  0.082319  0.010302      0"
            ]
          },
          "metadata": {
            "tags": []
          },
          "execution_count": 186
        }
      ]
    },
    {
      "cell_type": "markdown",
      "metadata": {
        "id": "SJTbgNlzI7vV"
      },
      "source": [
        "separar 90% entrenamiento y 10% prueba "
      ]
    },
    {
      "cell_type": "code",
      "metadata": {
        "id": "eH_YhFBVIwlO"
      },
      "source": [
        "\n",
        "from sklearn.model_selection import train_test_split\n",
        "\n",
        "Y = df_vector['clase']\n",
        "X = df_vector.drop(labels=['clase'],axis=1)\n",
        "\n",
        "X_train, X_test, y_train, y_test = train_test_split(X, \n",
        "                                                    Y, \n",
        "                                                    test_size = 0.1, \n",
        "                                                    random_state = 1)"
      ],
      "execution_count": 274,
      "outputs": []
    },
    {
      "cell_type": "markdown",
      "metadata": {
        "id": "uAH_j4EaJCmF"
      },
      "source": [
        "Descripción de la partición "
      ]
    },
    {
      "cell_type": "code",
      "metadata": {
        "id": "xq2dZV1jJDTM",
        "outputId": "1ef5ca40-7de1-444e-9869-fd12a8c935a4",
        "colab": {
          "base_uri": "https://localhost:8080/"
        }
      },
      "source": [
        "# Show the results of the split\n",
        "print(\"Conjunto Entrenamiento {} \".format(X_train.shape[0]))\n",
        "print(\"Conjunto Pruebas {} .\".format(X_test.shape[0]))\n",
        "\n",
        "print(\"negativos Entrenamiento  \",y_train[y_train==0].count())\n",
        "print(\"positivos Entrenamiento  \",y_train[y_train==1].count())\n",
        "\n",
        "print(\"negativos Test  \",y_test[y_test==0].count())\n",
        "print(\"positivos Test  \",y_test[y_test==1].count())"
      ],
      "execution_count": 275,
      "outputs": [
        {
          "output_type": "stream",
          "text": [
            "Conjunto Entrenamiento 11880 \n",
            "Conjunto Pruebas 1321 .\n",
            "negativos Entrenamiento   7027\n",
            "positivos Entrenamiento   4853\n",
            "negativos Test   781\n",
            "positivos Test   540\n"
          ],
          "name": "stdout"
        }
      ]
    },
    {
      "cell_type": "markdown",
      "metadata": {
        "id": "0u-lEoQkJaks"
      },
      "source": [
        "Buscar los mejores parámetros modelo"
      ]
    },
    {
      "cell_type": "code",
      "metadata": {
        "id": "x3kXikQLJYJO",
        "outputId": "5c95c586-49eb-4306-92d1-1c14f7955d9c",
        "colab": {
          "base_uri": "https://localhost:8080/"
        }
      },
      "source": [
        "%%time\n",
        "from sklearn.metrics import confusion_matrix\n",
        "from sklearn.metrics import accuracy_score,precision_score, balanced_accuracy_score\n",
        "from xgboost import XGBClassifier\n",
        "\n",
        "def _score_func(estimator, X, y):\n",
        "  y_pred_test = estimator.predict(X)\n",
        "  return balanced_accuracy_score(y, y_pred_test)\n",
        "\n",
        "\n",
        "class Class_Fit(object):\n",
        "    def __init__(self, clf, params=None):\n",
        "        if params:            \n",
        "            self.clf = clf(**params)\n",
        "        else:\n",
        "            self.clf = clf()\n",
        "\n",
        "    def train(self, x_train, y_train):\n",
        "        self.clf.fit(x_train, y_train)\n",
        "\n",
        "    def predict(self, x):\n",
        "        return self.clf.predict(x)\n",
        "    \n",
        "    def grid_search(self, parameters, Kfold):\n",
        "        self.grid = GridSearchCV(estimator = self.clf, param_grid = parameters, cv = Kfold,scoring=_score_func)\n",
        "        \n",
        "    def grid_fit(self, X, Y):\n",
        "        self.grid.fit(X, Y)\n",
        "        \n",
        "    def grid_predict(self, X, Y):\n",
        "        self.predictions = self.grid.predict(X)\n",
        "        print(\"Precision: {:.2f} % \".format(100*metrics.balanced_accuracy_score(Y, self.predictions)))\n",
        "\n",
        "# Este proceso tarda mucho, fue necesario hacerlo en una maquina propia\n",
        "from sklearn.model_selection import GridSearchCV\n",
        "# Se utiliza gridsearch como modelo de selección para determinar los mejores parametros en XGBoost\n",
        "gb = Class_Fit(clf = XGBClassifier)\n",
        "param_grid = {\n",
        "             'objective':['binary:logistic'],\n",
        "             'n_estimators' : [500],\n",
        "              'eta':[0.03,0.003],\n",
        "              \n",
        "            #  'gamma':[0.03,0.003,5],\n",
        "              'max_depth':[5,10],\n",
        "      #        'min_child_weight':[0.5,5],\n",
        "      #        'max_delta_step':[0,5,10],\n",
        "           #   'subsample':[0.5,1],\n",
        "          #    'sampling_method':['subsample','uniform','gradient_based'],\n",
        "       #       'colsample_bytree': [0.2,1],\n",
        "           #   'lambda':[1,0],\n",
        "              'alpha':[0.003,0.03],\n",
        "              'scale_pos_weight':[y_train[y_train==0].count()/y_train[y_train==1].count(),0.5],\n",
        "              'n_job':[-1],\n",
        "              'booster':['gblinear','gbtree'],  \n",
        "             }\n",
        "gb.grid_search(parameters = param_grid, Kfold = 5)\n",
        "gb.grid_fit(X = X_train, Y = y_train)"
      ],
      "execution_count": 280,
      "outputs": [
        {
          "output_type": "stream",
          "text": [
            "CPU times: user 8min 50s, sys: 0 ns, total: 8min 50s\n",
            "Wall time: 8min 50s\n"
          ],
          "name": "stdout"
        }
      ]
    },
    {
      "cell_type": "code",
      "metadata": {
        "id": "-cHC-m3eJqVU",
        "outputId": "d06208f8-09aa-49b5-84bb-220c7528d7ed",
        "colab": {
          "base_uri": "https://localhost:8080/"
        }
      },
      "source": [
        "gb.grid.best_params_"
      ],
      "execution_count": 281,
      "outputs": [
        {
          "output_type": "execute_result",
          "data": {
            "text/plain": [
              "{'alpha': 0.003,\n",
              " 'booster': 'gbtree',\n",
              " 'eta': 0.03,\n",
              " 'max_depth': 10,\n",
              " 'n_estimators': 500,\n",
              " 'n_job': -1,\n",
              " 'objective': 'binary:logistic',\n",
              " 'scale_pos_weight': 1.4479703276323923}"
            ]
          },
          "metadata": {
            "tags": []
          },
          "execution_count": 281
        }
      ]
    },
    {
      "cell_type": "markdown",
      "metadata": {
        "id": "NXxvI-C-JzRn"
      },
      "source": [
        "Entrenar modelo con los mejores parámetros "
      ]
    },
    {
      "cell_type": "code",
      "metadata": {
        "id": "eW6xNN5sJuDT",
        "outputId": "6366d603-c348-42dd-f74d-531ae76ea022",
        "colab": {
          "base_uri": "https://localhost:8080/"
        }
      },
      "source": [
        "%%time\n",
        "from sklearn.metrics import confusion_matrix\n",
        "from sklearn.metrics import accuracy_score,precision_score, balanced_accuracy_score\n",
        "from xgboost import XGBClassifier\n",
        "params={'alpha': 0.003,\n",
        " 'booster': 'gbtree',\n",
        " 'eta': 0.03,\n",
        " 'max_depth': 10,\n",
        " 'n_estimators': 500,\n",
        " 'n_job': -1,\n",
        " 'objective': 'binary:logistic',\n",
        " 'scale_pos_weight': 1.4479703276323923}\n",
        "\n",
        "modelo_aprendizaje = XGBClassifier(**params)\n",
        "modelo_aprendizaje.fit(X_train, y_train)"
      ],
      "execution_count": 282,
      "outputs": [
        {
          "output_type": "stream",
          "text": [
            "CPU times: user 8.99 s, sys: 0 ns, total: 8.99 s\n",
            "Wall time: 9 s\n"
          ],
          "name": "stdout"
        }
      ]
    },
    {
      "cell_type": "markdown",
      "metadata": {
        "id": "U9X8gWzwJ31p"
      },
      "source": [
        "Evaluar el modelo "
      ]
    },
    {
      "cell_type": "code",
      "metadata": {
        "id": "5GvJbA9dJ44-",
        "outputId": "a58f4af3-ec66-46dd-d048-2b2321acbdbb",
        "colab": {
          "base_uri": "https://localhost:8080/",
          "height": 199
        }
      },
      "source": [
        "def eval_modelo(X_test,X_train,modelo):\n",
        "  #Predice prueba\n",
        "  y_pred_test = modelo.predict(X_test)\n",
        "  #predice train\n",
        "  y_pred_train = modelo.predict(X_train)\n",
        "\n",
        "  #n_samples / (n_classes * np.bincount(y))\n",
        "  display('Test:',confusion_matrix(y_test, y_pred_test))\n",
        "  display('Train:',confusion_matrix(y_train, y_pred_train))\n",
        "\n",
        "  print(\"accuracy test:\",accuracy_score(y_test, y_pred_test))\n",
        "  print(\"accuracy train:\",accuracy_score(y_train, y_pred_train))\n",
        "\n",
        "  print(\"balanced_accuracy test:\",balanced_accuracy_score(y_test, y_pred_test))\n",
        "  print(\"balanced_accuracy train:\",balanced_accuracy_score(y_train, y_pred_train))\n",
        "\n",
        "eval_modelo(X_test,X_train,modelo_aprendizaje)"
      ],
      "execution_count": 306,
      "outputs": [
        {
          "output_type": "display_data",
          "data": {
            "application/vnd.google.colaboratory.intrinsic+json": {
              "type": "string"
            },
            "text/plain": [
              "'Test:'"
            ]
          },
          "metadata": {
            "tags": []
          }
        },
        {
          "output_type": "display_data",
          "data": {
            "text/plain": [
              "array([[773,   8],\n",
              "       [  0, 540]])"
            ]
          },
          "metadata": {
            "tags": []
          }
        },
        {
          "output_type": "display_data",
          "data": {
            "application/vnd.google.colaboratory.intrinsic+json": {
              "type": "string"
            },
            "text/plain": [
              "'Train:'"
            ]
          },
          "metadata": {
            "tags": []
          }
        },
        {
          "output_type": "display_data",
          "data": {
            "text/plain": [
              "array([[6990,   37],\n",
              "       [  10, 4843]])"
            ]
          },
          "metadata": {
            "tags": []
          }
        },
        {
          "output_type": "stream",
          "text": [
            "accuracy test: 0.9939439818319455\n",
            "accuracy train: 0.9960437710437711\n",
            "balanced_accuracy test: 0.9948783610755442\n",
            "balanced_accuracy train: 0.9963370070245963\n"
          ],
          "name": "stdout"
        }
      ]
    },
    {
      "cell_type": "markdown",
      "metadata": {
        "id": "ef42sd3eKMku"
      },
      "source": [
        "Entrenar el modelo con todos los Tweets "
      ]
    },
    {
      "cell_type": "code",
      "metadata": {
        "id": "_-TEDcywJ-2c",
        "outputId": "bfb2b93b-3b2a-4913-96aa-3dc9630ca1b2",
        "colab": {
          "base_uri": "https://localhost:8080/"
        }
      },
      "source": [
        "modelo_aprendizaje = XGBClassifier(**params)\n",
        "modelo_aprendizaje.fit(X, Y)\n",
        "#dump(modelo_aprendizaje,\"/content/drive/My Drive/NLP TALLER/modelo_clasificacion_tweets.dat\")"
      ],
      "execution_count": 284,
      "outputs": [
        {
          "output_type": "execute_result",
          "data": {
            "text/plain": [
              "XGBClassifier(alpha=0.003, base_score=0.5, booster='gbtree',\n",
              "              colsample_bylevel=1, colsample_bynode=1, colsample_bytree=1,\n",
              "              eta=0.03, gamma=0, learning_rate=0.1, max_delta_step=0,\n",
              "              max_depth=10, min_child_weight=1, missing=None, n_estimators=500,\n",
              "              n_job=-1, n_jobs=1, nthread=None, objective='binary:logistic',\n",
              "              random_state=0, reg_alpha=0, reg_lambda=1,\n",
              "              scale_pos_weight=1.4479703276323923, seed=None, silent=None,\n",
              "              subsample=1, verbosity=1)"
            ]
          },
          "metadata": {
            "tags": []
          },
          "execution_count": 284
        }
      ]
    },
    {
      "cell_type": "markdown",
      "metadata": {
        "id": "8YaIVtlhKIPA"
      },
      "source": [
        "Función para usar el modelo"
      ]
    },
    {
      "cell_type": "code",
      "metadata": {
        "id": "rBp1MJKwKV4l",
        "outputId": "349fb6a3-be9b-4be9-8ce9-9b3eb37996e2",
        "colab": {
          "base_uri": "https://localhost:8080/"
        }
      },
      "source": [
        "def encode_d(document: str) -> torch.Tensor:\n",
        "  return model.infer_vector(tokenizar(document))\n",
        "\n",
        "def clasificar(documento,modelo):\n",
        "  x=encode_d(documento)\n",
        "  x_pred=pd.DataFrame(x,X.columns).transpose()\n",
        "  print(\"comentario:\",documento)\n",
        "  print(\"probabilidad negativo:\",modelo_aprendizaje.predict_proba(x_pred)[0][0])\n",
        "  print(\"probabilidad positivo:\",modelo_aprendizaje.predict_proba(x_pred)[0][1])\n",
        "  print(\"clase:\",modelo_aprendizaje.predict(x_pred))\n",
        "  \n",
        "\n",
        "#modelo_aprendizaje=load(\"/content/drive/My Drive/NLP TALLER/modelo_clasificacion_tweets.dat\")\n",
        "#documento=\"tuve un accidente en mi moto, estoy hospitalizado\"\n",
        "#documento=\"estoy feliz de estar aquí en este taller, gracias por su participación\"\n",
        "clasificar(documento,modelo_aprendizaje)"
      ],
      "execution_count": 307,
      "outputs": [
        {
          "output_type": "stream",
          "text": [
            "comentario: tuve un accidente en mi moto, estoy hospitalizado\n",
            "probabilidad negativo: 0.59521496\n",
            "probabilidad positivo: 0.404785\n",
            "clase: [0]\n"
          ],
          "name": "stdout"
        }
      ]
    },
    {
      "cell_type": "markdown",
      "metadata": {
        "id": "pPxfEY_aen3s"
      },
      "source": [
        "**Conclusión** \n",
        "\n",
        "Los embeddings pueden representar documentos de texto en puntos vectoriales N-dimensionales para solucionar problemas de NLP."
      ]
    },
    {
      "cell_type": "markdown",
      "metadata": {
        "id": "1YBAmDzgnadI"
      },
      "source": [
        "**Referencias** \n",
        "\n",
        "\n",
        "Goldberg, Y., & Levy, O. (2014). word2vec Explained: deriving Mikolov et al.'s negative-sampling word-embedding method. arXiv preprint arXiv:1402.3722.\n",
        "\n",
        "Markov, I., Gómez-Adorno, H., Posadas-Durán, J. P., Sidorov, G., & Gelbukh, A. (2016, October). Author profiling with doc2vec neural network-based document embeddings. In Mexican International Conference on Artificial Intelligence (pp. 117-131). Springer, Cham.\n",
        "\n",
        "\n",
        "https://huggingface.co/transformers/\n",
        "\n",
        "\n",
        "https://notebooks.quantumstat.com/\n",
        "\n"
      ]
    }
  ]
}